{
 "cells": [
  {
   "cell_type": "code",
   "execution_count": 1,
   "metadata": {
    "id": "NCCICqGWCcod"
   },
   "outputs": [],
   "source": [
    "#import packages\n",
    "import numpy as np\n",
    "from scipy import stats\n",
    "import matplotlib.pyplot as plt\n",
    "import pandas as pd\n",
    "import scipy"
   ]
  },
  {
   "cell_type": "code",
   "execution_count": 2,
   "metadata": {
    "id": "-OyMETroGxSa"
   },
   "outputs": [],
   "source": [
    "#get data\n",
    "data = pd.read_csv('movieReplicationSet.csv')"
   ]
  },
  {
   "cell_type": "markdown",
   "metadata": {
    "id": "3siN3j-Gkt4G"
   },
   "source": [
    "# Q1: \n",
    "Are movies that are more popular (operationalized as having more ratings) rated higher than movies that are less popular? [Hint: You can do a median-split of popularity to determine high vs. low popularity movies]"
   ]
  },
  {
   "cell_type": "code",
   "execution_count": 3,
   "metadata": {
    "colab": {
     "base_uri": "https://localhost:8080/"
    },
    "id": "zb3bCwt0ktk3",
    "outputId": "16f5013d-63fd-4f42-ca1b-980eba67004b"
   },
   "outputs": [
    {
     "name": "stdout",
     "output_type": "stream",
     "text": [
      "p-value: 0.0\n",
      "Reject the null hypothesis: More popular movies are rated higher than less popular movies.\n"
     ]
    },
    {
     "data": {
      "image/png": "[encoded data removed]",
      "text/plain": [
       "<Figure size 640x480 with 1 Axes>"
      ]
     },
     "metadata": {},
     "output_type": "display_data"
    }
   ],
   "source": [
    "col = 400\n",
    "rating_counts = np.array([])\n",
    "\n",
    "for i in data.columns[:col]:\n",
    "    column = data[i]\n",
    "    count = column.count()\n",
    "    rating_counts = np.append(rating_counts, count)\n",
    "\n",
    "median = np.median(rating_counts)\n",
    "\n",
    "highp_group = np.array([])\n",
    "lowp_group = np.array([])\n",
    "\n",
    "for i in data.columns[:col]:\n",
    "    column = data[i]\n",
    "    count = column.count()\n",
    "\n",
    "    if count >= median:\n",
    "        highp_group = np.append(highp_group, column.dropna().to_numpy())  # Append ratings for high popularity movies\n",
    "    else:\n",
    "        lowp_group = np.append(lowp_group, column.dropna().to_numpy())    # Append ratings for low popularity movies\n",
    "\n",
    "pval = stats.mannwhitneyu(highp_group, lowp_group, alternative='greater')[1]\n",
    "\n",
    "print(\"p-value:\", pval)\n",
    "\n",
    "alpha = 0.005\n",
    "if pval < alpha:\n",
    "    print(\"Reject the null hypothesis: More popular movies are rated higher than less popular movies.\")\n",
    "else:\n",
    "    print(\"Fail to reject the null hypothesis: No significant difference in ratings based on popularity.\")\n",
    "\n",
    "# plotting part\n",
    "labels = ['High Popularity', 'Low Popularity']\n",
    "data_highlow = [highp_group, lowp_group]\n",
    "plt.boxplot(data_highlow, labels = labels)\n",
    "plt.title(\"High vs. Low Popularity Movies\")\n",
    "plt.ylabel(\"Ratings\")\n",
    "plt.show()"
   ]
  },
  {
   "cell_type": "markdown",
   "metadata": {
    "id": "XsJcUTYPrhIM"
   },
   "source": [
    "# Q2: \n",
    "Are movies that are newer rated differently than movies that are older? [Hint: Do a median split of year of release to contrast movies in terms of whether they are old or new]"
   ]
  },
  {
   "cell_type": "code",
   "execution_count": 4,
   "metadata": {
    "colab": {
     "base_uri": "https://localhost:8080/"
    },
    "id": "dbEe0Lu2rcqt",
    "outputId": "c141832d-a280-49b1-e184-9f7236439e71"
   },
   "outputs": [
    {
     "name": "stdout",
     "output_type": "stream",
     "text": [
      "p-value: 1.2849216001533932e-06\n",
      "Reject the null hypothesis: Newer movies are rated differently than movies that are older.\n"
     ]
    }
   ],
   "source": [
    "col = 400\n",
    "year_data = np.array([])\n",
    "\n",
    "for i in data.columns[:col]:\n",
    "    year = int(i[-5:-1])\n",
    "    year_data = np.append(year_data, year)\n",
    "\n",
    "median = np.median(year_data)\n",
    "\n",
    "new_group = np.array([])\n",
    "old_group = np.array([])\n",
    "\n",
    "for i in data.columns[:col]:\n",
    "    year = int(i[-5:-1])\n",
    "    column = data[i]\n",
    "\n",
    "    if year >= median:\n",
    "        new_group = np.append(new_group, column.dropna().to_numpy())  # Append ratings for high popularity movies\n",
    "    else:\n",
    "        old_group = np.append(old_group, column.dropna().to_numpy())    # Append ratings for low popularity movies\n",
    "\n",
    "pval = stats.mannwhitneyu(new_group, old_group, alternative='two-sided')[1]\n",
    "print(\"p-value:\", pval)\n",
    "\n",
    "alpha = 0.005\n",
    "if pval < alpha:\n",
    "    print(\"Reject the null hypothesis: Newer movies are rated differently than movies that are older.\")\n",
    "else:\n",
    "    print(\"Fail to reject the null hypothesis: No significant difference in ratings based on year released.\")"
   ]
  },
  {
   "cell_type": "markdown",
   "metadata": {
    "id": "B934TZ3uXd_e"
   },
   "source": [
    "# Q3: \n",
    "Is enjoyment of ‘Shrek (2001)’ gendered, i.e. do male and female viewers rate it differently?"
   ]
  },
  {
   "cell_type": "code",
   "execution_count": 5,
   "metadata": {
    "colab": {
     "base_uri": "https://localhost:8080/",
     "height": 419
    },
    "id": "dsSyia6lXmd0",
    "outputId": "0c018e33-1be4-4b0c-9756-5f9d4697ab4e"
   },
   "outputs": [
    {
     "data": {
      "text/html": [
       "<div>\n",
       "<style scoped>\n",
       "    .dataframe tbody tr th:only-of-type {\n",
       "        vertical-align: middle;\n",
       "    }\n",
       "\n",
       "    .dataframe tbody tr th {\n",
       "        vertical-align: top;\n",
       "    }\n",
       "\n",
       "    .dataframe thead th {\n",
       "        text-align: right;\n",
       "    }\n",
       "</style>\n",
       "<table border=\"1\" class=\"dataframe\">\n",
       "  <thead>\n",
       "    <tr style=\"text-align: right;\">\n",
       "      <th></th>\n",
       "      <th>Shrek (2001)</th>\n",
       "      <th>Gender identity (1 = female; 2 = male; 3 = self-described)</th>\n",
       "    </tr>\n",
       "  </thead>\n",
       "  <tbody>\n",
       "    <tr>\n",
       "      <th>0</th>\n",
       "      <td>3.0</td>\n",
       "      <td>1.0</td>\n",
       "    </tr>\n",
       "    <tr>\n",
       "      <th>1</th>\n",
       "      <td>3.0</td>\n",
       "      <td>1.0</td>\n",
       "    </tr>\n",
       "    <tr>\n",
       "      <th>2</th>\n",
       "      <td>3.5</td>\n",
       "      <td>1.0</td>\n",
       "    </tr>\n",
       "    <tr>\n",
       "      <th>3</th>\n",
       "      <td>0.5</td>\n",
       "      <td>1.0</td>\n",
       "    </tr>\n",
       "    <tr>\n",
       "      <th>4</th>\n",
       "      <td>3.0</td>\n",
       "      <td>1.0</td>\n",
       "    </tr>\n",
       "    <tr>\n",
       "      <th>...</th>\n",
       "      <td>...</td>\n",
       "      <td>...</td>\n",
       "    </tr>\n",
       "    <tr>\n",
       "      <th>1092</th>\n",
       "      <td>3.0</td>\n",
       "      <td>1.0</td>\n",
       "    </tr>\n",
       "    <tr>\n",
       "      <th>1093</th>\n",
       "      <td>4.0</td>\n",
       "      <td>1.0</td>\n",
       "    </tr>\n",
       "    <tr>\n",
       "      <th>1094</th>\n",
       "      <td>3.5</td>\n",
       "      <td>1.0</td>\n",
       "    </tr>\n",
       "    <tr>\n",
       "      <th>1095</th>\n",
       "      <td>2.5</td>\n",
       "      <td>1.0</td>\n",
       "    </tr>\n",
       "    <tr>\n",
       "      <th>1096</th>\n",
       "      <td>2.0</td>\n",
       "      <td>1.0</td>\n",
       "    </tr>\n",
       "  </tbody>\n",
       "</table>\n",
       "<p>1097 rows × 2 columns</p>\n",
       "</div>"
      ],
      "text/plain": [
       "      Shrek (2001)  Gender identity (1 = female; 2 = male; 3 = self-described)\n",
       "0              3.0                                                1.0         \n",
       "1              3.0                                                1.0         \n",
       "2              3.5                                                1.0         \n",
       "3              0.5                                                1.0         \n",
       "4              3.0                                                1.0         \n",
       "...            ...                                                ...         \n",
       "1092           3.0                                                1.0         \n",
       "1093           4.0                                                1.0         \n",
       "1094           3.5                                                1.0         \n",
       "1095           2.5                                                1.0         \n",
       "1096           2.0                                                1.0         \n",
       "\n",
       "[1097 rows x 2 columns]"
      ]
     },
     "execution_count": 5,
     "metadata": {},
     "output_type": "execute_result"
    }
   ],
   "source": [
    "Q3_data = data.loc[:,['Shrek (2001)','Gender identity (1 = female; 2 = male; 3 = self-described)']]\n",
    "Q3_data"
   ]
  },
  {
   "cell_type": "code",
   "execution_count": 6,
   "metadata": {
    "colab": {
     "base_uri": "https://localhost:8080/",
     "height": 242
    },
    "id": "z4iC1Bl9Xqh8",
    "outputId": "0c761b70-45a3-47db-a56d-9254bd2c4248"
   },
   "outputs": [
    {
     "name": "stdout",
     "output_type": "stream",
     "text": [
      "p-value: 0.050536625925559006\n",
      "Fail to reject the null hypothesis: No significant difference in ratings based on gender for 'Shrek (2001)'.\n"
     ]
    }
   ],
   "source": [
    "female = data[data.iloc[:, 474] == 1]['Shrek (2001)'].dropna()\n",
    "male = data[data.iloc[:, 474] == 2]['Shrek (2001)'].dropna()\n",
    "pval = stats.mannwhitneyu(female, male, alternative = 'two-sided')[1]\n",
    "\n",
    "print(\"p-value:\", pval)\n",
    "\n",
    "alpha = 0.005\n",
    "if pval < alpha:\n",
    "    print(\"Reject the null hypothesis: Male and female viewers rate 'Shrek (2001)' differently.\")\n",
    "else:\n",
    "    print(\"Fail to reject the null hypothesis: No significant difference in ratings based on gender for 'Shrek (2001)'.\")"
   ]
  },
  {
   "cell_type": "markdown",
   "metadata": {
    "id": "Y75q6Oj2bs1K"
   },
   "source": [
    "# Q4: \n",
    "What proportion of movies are rated differently by male and female viewers?"
   ]
  },
  {
   "cell_type": "code",
   "execution_count": 7,
   "metadata": {
    "id": "FYlcJgDkbryb"
   },
   "outputs": [
    {
     "name": "stdout",
     "output_type": "stream",
     "text": [
      "Movies exhibit a gender effect: \n",
      "['Django Unchained (2012)', 'Alien (1979)', 'Fargo (1996)', 'Star Wars: Episode IV - A New Hope (1977)', 'Indiana Jones and the Raiders of the Lost Ark (1981)', 'The Lost World: Jurassic Park (1997)', '13 Going on 30 (2004)', 'Inglorious Bastards (2009)', 'Clueless (1995)', 'The Exorcist (1973)', \"Pirates of the Caribbean: Dead Man's Chest (2006)\", 'Funny Girl (1968)', 'The Thing (1982)', 'Elf (2003)', 'Andaz Apna Apna (1994)', 'The Proposal (2009)', 'Girl Interrupted (1999)', 'Divine Secrets of the Ya-Ya Sisterhood (2002)', 'Ghostbusters (2016)', 'Cheaper by the Dozen (2003)', \"Can't Hardly Wait (1998)\", 'Transformers: Age of Extinction (2014)', 'Room (2015)', 'Saving Private Ryan (1998)', 'My Big Fat Greek Wedding (2002)', 'The Cabin in the Woods (2012)', 'The Firm (1993)', 'Die Hard (1988)', '10 Things I Hate About You (1999)', 'Uptown Girls (2003)', 'Beauty and the Beauty (1991)', 'Knight and Day (2010)', 'The Holiday (2006)', \"Harry Potter and the Sorcerer's Stone (2001)\", 'Batman: The Dark Knight (2008)', 'Grease (1978)', '8 Mile (2002)', 'Harry Potter and the Deathly Hallows: Part 2 (2011)', 'Chicago (2002)', 'Apocalypse Now (1979)', 'The Matrix (1999)', 'Bend it Like Beckham (2002)', 'Aladdin (1992)', 'The Wolf of Wall Street (2013)', 'Iron Man 3 (2013)', 'Inception (2010)', 'Gladiator (2000)', 'Harry Potter and the Goblet of Fire (2005)', 'Jaws (1975)', 'Harry Potter and the Chamber of Secrets (2002)']\n",
      "Proportion of movies are rated differently by male and female viewers  0.125\n"
     ]
    }
   ],
   "source": [
    "list_fm = []\n",
    "count = 0\n",
    "col = 400\n",
    "\n",
    "for i in data.columns[:col]:\n",
    "    female = data[data.iloc[:, 474] == 1][i].dropna()\n",
    "    male = data[data.iloc[:, 474] == 2][i].dropna()\n",
    "    pval = stats.mannwhitneyu(female, male, alternative = 'two-sided')[1]\n",
    "    if pval < 0.005:\n",
    "        list_fm.append(i)\n",
    "        count += 1\n",
    "\n",
    "print (\"Movies exhibit a gender effect: \")\n",
    "print (list_fm)\n",
    "print (\"Proportion of movies are rated differently by male and female viewers \", count/col)"
   ]
  },
  {
   "cell_type": "markdown",
   "metadata": {
    "id": "h8l-2L2QF7lA"
   },
   "source": [
    "# Q5: \n",
    "Do people who are only children enjoy ‘The Lion King (1994)’ more than people with siblings?"
   ]
  },
  {
   "cell_type": "markdown",
   "metadata": {
    "id": "OnKc4tFteTZS"
   },
   "source": [
    "Created a dataframe that only has the rating of \"The Lion King (1994)\" and the only child information. Then did a row wise removal to remove missing values in the rating column. The count is 151 only child and 776 with siblings. The sample size we have here is disproportionate."
   ]
  },
  {
   "cell_type": "code",
   "execution_count": 8,
   "metadata": {
    "colab": {
     "base_uri": "https://localhost:8080/",
     "height": 424
    },
    "id": "p9FM4B8QIXMC",
    "outputId": "71c1093c-2cd2-428b-fa7c-1071b7495eba"
   },
   "outputs": [
    {
     "data": {
      "text/html": [
       "<div>\n",
       "<style scoped>\n",
       "    .dataframe tbody tr th:only-of-type {\n",
       "        vertical-align: middle;\n",
       "    }\n",
       "\n",
       "    .dataframe tbody tr th {\n",
       "        vertical-align: top;\n",
       "    }\n",
       "\n",
       "    .dataframe thead th {\n",
       "        text-align: right;\n",
       "    }\n",
       "</style>\n",
       "<table border=\"1\" class=\"dataframe\">\n",
       "  <thead>\n",
       "    <tr style=\"text-align: right;\">\n",
       "      <th></th>\n",
       "      <th>The Lion King (1994)</th>\n",
       "      <th>Are you an only child? (1: Yes; 0: No; -1: Did not respond)</th>\n",
       "    </tr>\n",
       "  </thead>\n",
       "  <tbody>\n",
       "    <tr>\n",
       "      <th>0</th>\n",
       "      <td>4.0</td>\n",
       "      <td>0</td>\n",
       "    </tr>\n",
       "    <tr>\n",
       "      <th>1</th>\n",
       "      <td>NaN</td>\n",
       "      <td>0</td>\n",
       "    </tr>\n",
       "    <tr>\n",
       "      <th>2</th>\n",
       "      <td>4.0</td>\n",
       "      <td>1</td>\n",
       "    </tr>\n",
       "    <tr>\n",
       "      <th>3</th>\n",
       "      <td>3.0</td>\n",
       "      <td>0</td>\n",
       "    </tr>\n",
       "    <tr>\n",
       "      <th>4</th>\n",
       "      <td>4.0</td>\n",
       "      <td>1</td>\n",
       "    </tr>\n",
       "    <tr>\n",
       "      <th>...</th>\n",
       "      <td>...</td>\n",
       "      <td>...</td>\n",
       "    </tr>\n",
       "    <tr>\n",
       "      <th>1092</th>\n",
       "      <td>3.5</td>\n",
       "      <td>0</td>\n",
       "    </tr>\n",
       "    <tr>\n",
       "      <th>1093</th>\n",
       "      <td>3.5</td>\n",
       "      <td>0</td>\n",
       "    </tr>\n",
       "    <tr>\n",
       "      <th>1094</th>\n",
       "      <td>NaN</td>\n",
       "      <td>0</td>\n",
       "    </tr>\n",
       "    <tr>\n",
       "      <th>1095</th>\n",
       "      <td>NaN</td>\n",
       "      <td>0</td>\n",
       "    </tr>\n",
       "    <tr>\n",
       "      <th>1096</th>\n",
       "      <td>4.0</td>\n",
       "      <td>0</td>\n",
       "    </tr>\n",
       "  </tbody>\n",
       "</table>\n",
       "<p>1097 rows × 2 columns</p>\n",
       "</div>"
      ],
      "text/plain": [
       "      The Lion King (1994)  \\\n",
       "0                      4.0   \n",
       "1                      NaN   \n",
       "2                      4.0   \n",
       "3                      3.0   \n",
       "4                      4.0   \n",
       "...                    ...   \n",
       "1092                   3.5   \n",
       "1093                   3.5   \n",
       "1094                   NaN   \n",
       "1095                   NaN   \n",
       "1096                   4.0   \n",
       "\n",
       "      Are you an only child? (1: Yes; 0: No; -1: Did not respond)  \n",
       "0                                                     0            \n",
       "1                                                     0            \n",
       "2                                                     1            \n",
       "3                                                     0            \n",
       "4                                                     1            \n",
       "...                                                 ...            \n",
       "1092                                                  0            \n",
       "1093                                                  0            \n",
       "1094                                                  0            \n",
       "1095                                                  0            \n",
       "1096                                                  0            \n",
       "\n",
       "[1097 rows x 2 columns]"
      ]
     },
     "execution_count": 8,
     "metadata": {},
     "output_type": "execute_result"
    }
   ],
   "source": [
    "Q5_data = data.loc[:,['The Lion King (1994)','Are you an only child? (1: Yes; 0: No; -1: Did not respond)']]\n",
    "Q5_data"
   ]
  },
  {
   "cell_type": "code",
   "execution_count": 9,
   "metadata": {
    "colab": {
     "base_uri": "https://localhost:8080/"
    },
    "id": "BQGCSC9xr8m4",
    "outputId": "7555bd8c-6f08-4ca4-a70d-5d0cab0430c2"
   },
   "outputs": [
    {
     "data": {
      "text/plain": [
       "(151, 776)"
      ]
     },
     "execution_count": 9,
     "metadata": {},
     "output_type": "execute_result"
    }
   ],
   "source": [
    "# divided people who give rating to “The Lion King” into 2 groups: only children and with siblings\n",
    "# remove the NaN values\n",
    "only_child_yes = data[data.iloc[:, 475] == 1]['The Lion King (1994)'].dropna()\n",
    "only_child_no = data[data.iloc[:, 475] == 0]['The Lion King (1994)'].dropna()\n",
    "len(only_child_yes),len(only_child_no)"
   ]
  },
  {
   "cell_type": "code",
   "execution_count": 10,
   "metadata": {
    "colab": {
     "base_uri": "https://localhost:8080/"
    },
    "id": "ggPuBeY-e7il",
    "outputId": "d324c617-5564-497b-fe63-4a4e5f24939f"
   },
   "outputs": [
    {
     "data": {
      "text/plain": [
       "MannwhitneyuResult(statistic=52929.0, pvalue=0.978419092554931)"
      ]
     },
     "execution_count": 10,
     "metadata": {},
     "output_type": "execute_result"
    }
   ],
   "source": [
    "stats.mannwhitneyu(only_child_yes, only_child_no, alternative = 'greater')"
   ]
  },
  {
   "cell_type": "markdown",
   "metadata": {
    "id": "fflZsJjB_TTS"
   },
   "source": [
    "Since the question is asking if only children enjoy the movie more, we used an one-tailed Mann-Whitney U test and the p-value is 0.978, so there is no strong evidence that only children enjoy the movie ‘The Lion King (1994)’ more than people with siblings"
   ]
  },
  {
   "cell_type": "markdown",
   "metadata": {
    "id": "ihVObfdt58Of"
   },
   "source": [
    "# Q6: \n",
    "What proportion of movies exhibit an “only child effect”, i.e. are rated different by viewers with siblings vs. those without?"
   ]
  },
  {
   "cell_type": "code",
   "execution_count": 11,
   "metadata": {
    "colab": {
     "base_uri": "https://localhost:8080/"
    },
    "id": "TJEBtX4g6hQZ",
    "outputId": "8008c883-9ef3-46e5-fbd5-58aea1ed4cbe"
   },
   "outputs": [
    {
     "name": "stdout",
     "output_type": "stream",
     "text": [
      "Movies exhibit an only child effect: \n",
      "['Billy Madison (1995)', 'The Blue Lagoon (1980)', 'Happy Gilmore (1996)', 'American Pie (1999)', 'Star Wars: Episode VI - The Return of the Jedi (1983)', 'FeardotCom (2002)', 'Captain America: Civil War (2016)']\n",
      "Proportion of movies exhibit an only child effect:  0.0175\n"
     ]
    }
   ],
   "source": [
    "list_oc = []\n",
    "number = 0\n",
    "# used a two-sided Mann-Whitney U test on each movie\n",
    "# grouped those with significant p-value (<0.005)\n",
    "for i in data.columns[:400]:\n",
    "    only_child_yes = data[data.iloc[:, 475] == 1][i].dropna()\n",
    "    only_child_no = data[data.iloc[:, 475] == 0][i].dropna()\n",
    "    p = stats.mannwhitneyu(only_child_yes, only_child_no, alternative = 'two-sided')[1]\n",
    "    if p < 0.005:\n",
    "        list_oc.append (i)\n",
    "        number += 1\n",
    "\n",
    "print (\"Movies exhibit an only child effect: \")\n",
    "print (list_oc)\n",
    "print (\"Proportion of movies exhibit an only child effect: \", number/400)\n"
   ]
  },
  {
   "cell_type": "markdown",
   "metadata": {
    "id": "dN1ZF4cdmFFT"
   },
   "source": [
    "Performed a two-sided Mann Whitney U test for each movie. There were only 7 movies that exhibited an “only child effect”."
   ]
  },
  {
   "cell_type": "markdown",
   "metadata": {
    "id": "Uqc-jsbDGmSV"
   },
   "source": [
    "# Q7: \n",
    "Do people who like to watch movies socially enjoy ‘The Wolf of Wall Street (2013)’ more than those who prefer to watch them alone?"
   ]
  },
  {
   "cell_type": "markdown",
   "metadata": {
    "id": "ugDwk6hCnmJn"
   },
   "source": [
    "Same as Q5, did a row-wise removal to remove missing values in the rating column. The count is 270 people prefer watch movie alone and 393 people prefer watch movie socially. The sample size we have here is not disproportionate."
   ]
  },
  {
   "cell_type": "code",
   "execution_count": 12,
   "metadata": {
    "colab": {
     "base_uri": "https://localhost:8080/",
     "height": 441
    },
    "id": "dWQAZdYnGz8N",
    "outputId": "4ce266d2-131f-4862-d250-4c3ecea13a87"
   },
   "outputs": [
    {
     "data": {
      "text/html": [
       "<div>\n",
       "<style scoped>\n",
       "    .dataframe tbody tr th:only-of-type {\n",
       "        vertical-align: middle;\n",
       "    }\n",
       "\n",
       "    .dataframe tbody tr th {\n",
       "        vertical-align: top;\n",
       "    }\n",
       "\n",
       "    .dataframe thead th {\n",
       "        text-align: right;\n",
       "    }\n",
       "</style>\n",
       "<table border=\"1\" class=\"dataframe\">\n",
       "  <thead>\n",
       "    <tr style=\"text-align: right;\">\n",
       "      <th></th>\n",
       "      <th>The Wolf of Wall Street (2013)</th>\n",
       "      <th>Movies are best enjoyed alone (1: Yes; 0: No; -1: Did not respond)</th>\n",
       "    </tr>\n",
       "  </thead>\n",
       "  <tbody>\n",
       "    <tr>\n",
       "      <th>0</th>\n",
       "      <td>NaN</td>\n",
       "      <td>1</td>\n",
       "    </tr>\n",
       "    <tr>\n",
       "      <th>1</th>\n",
       "      <td>NaN</td>\n",
       "      <td>0</td>\n",
       "    </tr>\n",
       "    <tr>\n",
       "      <th>2</th>\n",
       "      <td>NaN</td>\n",
       "      <td>0</td>\n",
       "    </tr>\n",
       "    <tr>\n",
       "      <th>3</th>\n",
       "      <td>4.0</td>\n",
       "      <td>1</td>\n",
       "    </tr>\n",
       "    <tr>\n",
       "      <th>4</th>\n",
       "      <td>3.0</td>\n",
       "      <td>1</td>\n",
       "    </tr>\n",
       "    <tr>\n",
       "      <th>...</th>\n",
       "      <td>...</td>\n",
       "      <td>...</td>\n",
       "    </tr>\n",
       "    <tr>\n",
       "      <th>1092</th>\n",
       "      <td>NaN</td>\n",
       "      <td>0</td>\n",
       "    </tr>\n",
       "    <tr>\n",
       "      <th>1093</th>\n",
       "      <td>3.5</td>\n",
       "      <td>0</td>\n",
       "    </tr>\n",
       "    <tr>\n",
       "      <th>1094</th>\n",
       "      <td>2.0</td>\n",
       "      <td>0</td>\n",
       "    </tr>\n",
       "    <tr>\n",
       "      <th>1095</th>\n",
       "      <td>NaN</td>\n",
       "      <td>1</td>\n",
       "    </tr>\n",
       "    <tr>\n",
       "      <th>1096</th>\n",
       "      <td>4.0</td>\n",
       "      <td>1</td>\n",
       "    </tr>\n",
       "  </tbody>\n",
       "</table>\n",
       "<p>1097 rows × 2 columns</p>\n",
       "</div>"
      ],
      "text/plain": [
       "      The Wolf of Wall Street (2013)  \\\n",
       "0                                NaN   \n",
       "1                                NaN   \n",
       "2                                NaN   \n",
       "3                                4.0   \n",
       "4                                3.0   \n",
       "...                              ...   \n",
       "1092                             NaN   \n",
       "1093                             3.5   \n",
       "1094                             2.0   \n",
       "1095                             NaN   \n",
       "1096                             4.0   \n",
       "\n",
       "      Movies are best enjoyed alone (1: Yes; 0: No; -1: Did not respond)  \n",
       "0                                                     1                   \n",
       "1                                                     0                   \n",
       "2                                                     0                   \n",
       "3                                                     1                   \n",
       "4                                                     1                   \n",
       "...                                                 ...                   \n",
       "1092                                                  0                   \n",
       "1093                                                  0                   \n",
       "1094                                                  0                   \n",
       "1095                                                  1                   \n",
       "1096                                                  1                   \n",
       "\n",
       "[1097 rows x 2 columns]"
      ]
     },
     "execution_count": 12,
     "metadata": {},
     "output_type": "execute_result"
    }
   ],
   "source": [
    "Q7_data = data.loc[:,['The Wolf of Wall Street (2013)','Movies are best enjoyed alone (1: Yes; 0: No; -1: Did not respond)']]\n",
    "Q7_data"
   ]
  },
  {
   "cell_type": "code",
   "execution_count": 13,
   "metadata": {
    "colab": {
     "base_uri": "https://localhost:8080/"
    },
    "id": "jaz4ZjLAKidI",
    "outputId": "d78c4780-6c96-4681-9a43-222de2e569d2"
   },
   "outputs": [
    {
     "data": {
      "text/plain": [
       "(270, 393)"
      ]
     },
     "execution_count": 13,
     "metadata": {},
     "output_type": "execute_result"
    }
   ],
   "source": [
    "# divided people who give rating to “The Wolf of Wall Street (2013)” into 2 groups: watch movies alone and watch movies socially\n",
    "# remove NaN values\n",
    "watch_movie_socially = data[data.iloc[:, 476] == 1]['The Wolf of Wall Street (2013)'].dropna()\n",
    "watch_movie_alone = data[data.iloc[:, 476] == 0]['The Wolf of Wall Street (2013)'].dropna()\n",
    "len(watch_movie_alone),len(watch_movie_socially)"
   ]
  },
  {
   "cell_type": "code",
   "execution_count": 14,
   "metadata": {
    "colab": {
     "base_uri": "https://localhost:8080/"
    },
    "id": "AioaycGQn67v",
    "outputId": "74361804-0746-4ceb-b8e2-79b57dc10268"
   },
   "outputs": [
    {
     "data": {
      "text/plain": [
       "MannwhitneyuResult(statistic=49303.5, pvalue=0.9436657996253056)"
      ]
     },
     "execution_count": 14,
     "metadata": {},
     "output_type": "execute_result"
    }
   ],
   "source": [
    "stats.mannwhitneyu(watch_movie_alone, watch_movie_socially, alternative = 'greater')"
   ]
  },
  {
   "cell_type": "markdown",
   "metadata": {
    "id": "DRmB_7ofMIxH"
   },
   "source": [
    "Since the question is asking if people who watch movie socially enjoy the movie more, we used an one-tailed Mann-Whitney U test and the p-value is 0.944, so there is no strong evidence that people who watch movie socially enjoy the movie ‘The Wolf of Wall Street (2013)’ more than people who watch movie alone"
   ]
  },
  {
   "cell_type": "markdown",
   "metadata": {
    "id": "y2sbqeviMfbh"
   },
   "source": [
    "# Q8:\n",
    "What proportion of movies exhibit such a “social watching” effect?"
   ]
  },
  {
   "cell_type": "code",
   "execution_count": 15,
   "metadata": {
    "colab": {
     "base_uri": "https://localhost:8080/"
    },
    "id": "HP2CVD7oMkj9",
    "outputId": "c4dd175f-e57a-4997-f4e9-1251cc7db357"
   },
   "outputs": [
    {
     "name": "stdout",
     "output_type": "stream",
     "text": [
      "Movie exhibit a social watching effect: \n",
      "['The Silence of the Lambs (1991)', 'North (1994)', 'Inglorious Bastards (2009)', 'Shrek 2 (2004)', 'The Avengers (2012)', 'Spider-Man (2002)', 'Donnie Darko (2001)', 'Apocalypse Now (1979)', 'The Transporter (2002)', 'Captain America: Civil War (2016)']\n",
      "Proportion of movies exhibit a social watching effect:  0.025\n"
     ]
    }
   ],
   "source": [
    "list_soc = []\n",
    "number = 0\n",
    "# used a two-sided Mann-Whitney U test on each movie and grouped those with significant p-value (<0.005)\n",
    "for i in data.columns[:400]:\n",
    "    watch_movie_socially = data[data.iloc[:, 476] == 1][i].dropna()\n",
    "    watch_movie_alone = data[data.iloc[:, 476] == 0][i].dropna()\n",
    "    p = stats.mannwhitneyu(watch_movie_socially, watch_movie_alone, alternative = 'two-sided')[1]\n",
    "    if p < 0.005:\n",
    "        list_soc.append (i)\n",
    "        number += 1\n",
    "\n",
    "print (\"Movie exhibit a social watching effect: \")\n",
    "print (list_soc)\n",
    "print (\"Proportion of movies exhibit a social watching effect: \", number/400)"
   ]
  },
  {
   "cell_type": "markdown",
   "metadata": {
    "id": "iC0i4TJZnUn5"
   },
   "source": [
    "Assume social watching effect means if a movie is rated differently by viewers who think movies are best enjoyed alone vs. those who don't. 10 out of 400 movies exhibited a “social watching” effect."
   ]
  },
  {
   "cell_type": "markdown",
   "metadata": {
    "id": "WomutZ6kUfwp"
   },
   "source": [
    "# Q9:\n",
    "Is the ratings distribution of ‘Home Alone (1990)’ different than that of ‘Finding Nemo (2003)’?"
   ]
  },
  {
   "cell_type": "code",
   "execution_count": 16,
   "metadata": {
    "id": "Bi8ZXrENUoWp"
   },
   "outputs": [],
   "source": [
    "#get Home Alone (1990) & Finding Nemo (2003) data\n",
    "M1 = pd.to_numeric(data['Home Alone (1990)'],errors='coerce').values\n",
    "M2 = pd.to_numeric(data['Finding Nemo (2003)'],errors='coerce').values"
   ]
  },
  {
   "cell_type": "code",
   "execution_count": 17,
   "metadata": {
    "id": "TQHdN6shU0iB"
   },
   "outputs": [],
   "source": [
    "#row-wise removal of Nan values - so we don't only capture die-hard fans of the movies (want ppl who saw both)\n",
    "list_tuples = list(zip(M1, M2))\n",
    "\n",
    "M1M2_df = pd.DataFrame(list_tuples)\n",
    "\n",
    "M1M2 = M1M2_df.dropna()"
   ]
  },
  {
   "cell_type": "code",
   "execution_count": 18,
   "metadata": {
    "id": "97ciw8G1U3bc"
   },
   "outputs": [],
   "source": [
    "#split data back into 2 vectors\n",
    "M1 = M1M2[0]\n",
    "M2 = M1M2[1]"
   ]
  },
  {
   "cell_type": "code",
   "execution_count": 19,
   "metadata": {
    "colab": {
     "base_uri": "https://localhost:8080/"
    },
    "id": "Aejo4TaHU51U",
    "outputId": "985b5310-813b-4605-fe97-2c67026f52e4"
   },
   "outputs": [
    {
     "data": {
      "text/plain": [
       "KstestResult(statistic=0.16790123456790124, pvalue=2.2038507937682687e-10, statistic_location=3.0, statistic_sign=1)"
      ]
     },
     "execution_count": 19,
     "metadata": {},
     "output_type": "execute_result"
    }
   ],
   "source": [
    "#KS test\n",
    "stats.kstest(M1, M2)"
   ]
  },
  {
   "cell_type": "markdown",
   "metadata": {
    "id": "nfwcyd_yU704"
   },
   "source": [
    "p-val is less than 0.005 therefore, we CAN conclude that there is a significant difference in the ratings distributions of Home Alone and Finding Nemo"
   ]
  },
  {
   "cell_type": "markdown",
   "metadata": {
    "id": "wTJtDg1CU9ZJ"
   },
   "source": [
    "# Q10:\n",
    "There are ratings on movies from several franchises ([‘Star Wars’, ‘Harry Potter’, ‘The Matrix’, ‘Indiana Jones’, ‘Jurassic Park’, ‘Pirates of the Caribbean’, ‘Toy Story’, ‘Batman’]) in this dataset. How many of these are of inconsistent quality, as experienced by viewers? [Hint: You can use the keywords in quotation marks featured in this question to identify the movies that are part of each franchise]"
   ]
  },
  {
   "cell_type": "markdown",
   "metadata": {
    "id": "C-UmYOeNVFXL"
   },
   "source": [
    "## Franchise 1 - Star Wars"
   ]
  },
  {
   "cell_type": "code",
   "execution_count": 20,
   "metadata": {
    "id": "RPINL4x6VCh7"
   },
   "outputs": [],
   "source": [
    "#get data\n",
    "starwars_df = data.filter(regex='Star Wars')\n",
    "starwars_df = starwars_df.apply(pd.to_numeric, errors='coerce')"
   ]
  },
  {
   "cell_type": "code",
   "execution_count": 21,
   "metadata": {
    "id": "jq-uZWNOVOFB"
   },
   "outputs": [],
   "source": [
    "#row-wise removal of NaN\n",
    "starwars_clean = starwars_df.dropna().reset_index(drop=True)"
   ]
  },
  {
   "cell_type": "code",
   "execution_count": 22,
   "metadata": {
    "colab": {
     "base_uri": "https://localhost:8080/"
    },
    "id": "EXr76VijVPkO",
    "outputId": "c3cad485-5f76-4f77-a88c-c49244517fde"
   },
   "outputs": [
    {
     "data": {
      "text/plain": [
       "F_onewayResult(statistic=39.029939613074056, pvalue=2.399595163532992e-38)"
      ]
     },
     "execution_count": 22,
     "metadata": {},
     "output_type": "execute_result"
    }
   ],
   "source": [
    "#ANOVA\n",
    "stats.f_oneway(starwars_clean['Star Wars: Episode IV - A New Hope (1977)'], starwars_clean['Star Wars: Episode II - Attack of the Clones (2002)'], starwars_clean['Star Wars: Episode V - The Empire Strikes Back (1980)'], starwars_clean['Star Wars: Episode 1 - The Phantom Menace (1999)'], starwars_clean['Star Wars: Episode VII - The Force Awakens (2015)'], starwars_clean['Star Wars: Episode VI - The Return of the Jedi (1983)'])"
   ]
  },
  {
   "cell_type": "markdown",
   "metadata": {
    "id": "ZmxCnppXVTgo"
   },
   "source": [
    "p-val is less than 0.005, so we CAN conclude that there is a significant difference in the mean ratings of the movies in the Star Wars franchise --> INCONSISTENCY"
   ]
  },
  {
   "cell_type": "markdown",
   "metadata": {
    "id": "3F2UrPWsVUQ6"
   },
   "source": [
    "## Franchise 2 - Harry Potter"
   ]
  },
  {
   "cell_type": "code",
   "execution_count": 23,
   "metadata": {
    "id": "CfU7dYBrVX9q"
   },
   "outputs": [],
   "source": [
    "#get data\n",
    "harrypotter_df = data.filter(regex='Harry Potter')\n",
    "harrypotter_df = harrypotter_df.apply(pd.to_numeric, errors='coerce')"
   ]
  },
  {
   "cell_type": "code",
   "execution_count": 24,
   "metadata": {
    "id": "SNzqqXCDVZ_R"
   },
   "outputs": [],
   "source": [
    "#row-wise removal of NaN\n",
    "harrypotter_clean = harrypotter_df.dropna().reset_index(drop=True)"
   ]
  },
  {
   "cell_type": "code",
   "execution_count": 25,
   "metadata": {
    "colab": {
     "base_uri": "https://localhost:8080/"
    },
    "id": "m6aJbZ4GVbdD",
    "outputId": "cf2cec30-ee66-42a1-fe36-9482f80a1e3a"
   },
   "outputs": [
    {
     "data": {
      "text/plain": [
       "F_onewayResult(statistic=1.4456904473285563, pvalue=0.2275340290918136)"
      ]
     },
     "execution_count": 25,
     "metadata": {},
     "output_type": "execute_result"
    }
   ],
   "source": [
    "#ANOVA\n",
    "stats.f_oneway(harrypotter_clean[\"Harry Potter and the Sorcerer's Stone (2001)\"], harrypotter_clean[\"Harry Potter and the Deathly Hallows: Part 2 (2011)\"], harrypotter_clean[\"Harry Potter and the Goblet of Fire (2005)\"], harrypotter_clean[\"Harry Potter and the Chamber of Secrets (2002)\"])"
   ]
  },
  {
   "cell_type": "markdown",
   "metadata": {
    "id": "QcbhYR1gVdV6"
   },
   "source": [
    "p-val is greater than 0.005, so we CANNOT conclude that there is a significant difference in the mean ratings of the movies in the Harry Potter franchise --> LACK OF INCONSISTENCY"
   ]
  },
  {
   "cell_type": "markdown",
   "metadata": {
    "id": "qftDLFRXVfUM"
   },
   "source": [
    "## Franchise 3 - The Matrix"
   ]
  },
  {
   "cell_type": "code",
   "execution_count": 26,
   "metadata": {
    "id": "DN42lYl-VhuA"
   },
   "outputs": [],
   "source": [
    "#get data\n",
    "matrix_df = data.filter(regex='Matrix')\n",
    "matrix_df = matrix_df.apply(pd.to_numeric, errors='coerce')"
   ]
  },
  {
   "cell_type": "code",
   "execution_count": 27,
   "metadata": {
    "id": "Ux-ph5_YVkc2"
   },
   "outputs": [],
   "source": [
    "#row-wise removal of NaN\n",
    "matrix_clean = matrix_df.dropna().reset_index(drop=True)"
   ]
  },
  {
   "cell_type": "code",
   "execution_count": 28,
   "metadata": {
    "colab": {
     "base_uri": "https://localhost:8080/"
    },
    "id": "DBOq3KdhVmho",
    "outputId": "54bf2ad4-dcb5-4ee2-d1da-21897d4bc9a1"
   },
   "outputs": [
    {
     "data": {
      "text/plain": [
       "F_onewayResult(statistic=18.59281511303809, pvalue=1.2957225925356723e-08)"
      ]
     },
     "execution_count": 28,
     "metadata": {},
     "output_type": "execute_result"
    }
   ],
   "source": [
    "#ANOVA\n",
    "stats.f_oneway(matrix_clean[\"The Matrix Revolutions (2003)\"], matrix_clean[\"The Matrix Reloaded (2003)\"], matrix_clean[\"The Matrix (1999)\"])"
   ]
  },
  {
   "cell_type": "markdown",
   "metadata": {
    "id": "AA1vg5poVp0P"
   },
   "source": [
    "p-val is less than 0.005, so we CAN conclude that there is a significant difference in the mean ratings of the movies in the Matrix franchise --> INCONSISTENCY"
   ]
  },
  {
   "cell_type": "markdown",
   "metadata": {
    "id": "Z9i_nbX_Vr5d"
   },
   "source": [
    "## Franchise 4 - Indiana Jones"
   ]
  },
  {
   "cell_type": "code",
   "execution_count": 29,
   "metadata": {
    "id": "BuTxtqT8Vuks"
   },
   "outputs": [],
   "source": [
    "#get data\n",
    "indianajones_df = data.filter(regex='Indiana Jones')\n",
    "indianajones_df = indianajones_df.apply(pd.to_numeric, errors='coerce')"
   ]
  },
  {
   "cell_type": "code",
   "execution_count": 30,
   "metadata": {
    "id": "ji_DxtQ2VxMb"
   },
   "outputs": [],
   "source": [
    "#row-wise removal of NaN\n",
    "indianajones_clean = indianajones_df.dropna().reset_index(drop=True)"
   ]
  },
  {
   "cell_type": "code",
   "execution_count": 31,
   "metadata": {
    "colab": {
     "base_uri": "https://localhost:8080/"
    },
    "id": "C8WsEtaOVywi",
    "outputId": "9330383a-5300-46b4-b585-05fd70303b0e"
   },
   "outputs": [
    {
     "data": {
      "text/plain": [
       "F_onewayResult(statistic=19.050958699528884, pvalue=5.20425425762115e-12)"
      ]
     },
     "execution_count": 31,
     "metadata": {},
     "output_type": "execute_result"
    }
   ],
   "source": [
    "#ANOVA\n",
    "stats.f_oneway(indianajones_clean[\"Indiana Jones and the Last Crusade (1989)\"], indianajones_clean[\"Indiana Jones and the Temple of Doom (1984)\"], indianajones_clean[\"Indiana Jones and the Raiders of the Lost Ark (1981)\"], indianajones_clean[\"Indiana Jones and the Kingdom of the Crystal Skull (2008)\"])"
   ]
  },
  {
   "cell_type": "markdown",
   "metadata": {
    "id": "JYqLzgXOV2wY"
   },
   "source": [
    "p-val is less than 0.005, so we CAN conclude that there is a significant difference in the mean ratings of the movies in the Indiana Jones franchise --> INCONSISTENCY"
   ]
  },
  {
   "cell_type": "markdown",
   "metadata": {
    "id": "6WX-KJMNV3-Z"
   },
   "source": [
    "## Franchise 5 - Jurassic Park"
   ]
  },
  {
   "cell_type": "code",
   "execution_count": 32,
   "metadata": {
    "id": "zKSe0CaFV1DO"
   },
   "outputs": [],
   "source": [
    "#get data\n",
    "jurassicpark_df = data.filter(regex='Jurassic Park')\n",
    "jurassicpark_df = jurassicpark_df.apply(pd.to_numeric, errors='coerce')"
   ]
  },
  {
   "cell_type": "code",
   "execution_count": 33,
   "metadata": {
    "id": "ItSXJaedV9ne"
   },
   "outputs": [],
   "source": [
    "#row-wise removal of NaN\n",
    "jurassicpark_clean = jurassicpark_df.dropna().reset_index(drop=True)"
   ]
  },
  {
   "cell_type": "code",
   "execution_count": 34,
   "metadata": {
    "colab": {
     "base_uri": "https://localhost:8080/"
    },
    "id": "n1-EMRyqV-__",
    "outputId": "bc90ae08-b59e-457d-8577-fb8c3e5df575"
   },
   "outputs": [
    {
     "data": {
      "text/plain": [
       "F_onewayResult(statistic=22.163615231952207, pvalue=3.542127514286409e-10)"
      ]
     },
     "execution_count": 34,
     "metadata": {},
     "output_type": "execute_result"
    }
   ],
   "source": [
    "#ANOVA\n",
    "stats.f_oneway(jurassicpark_clean[\"The Lost World: Jurassic Park (1997)\"], jurassicpark_clean[\"Jurassic Park III (2001)\"], jurassicpark_clean[\"Jurassic Park (1993)\"])"
   ]
  },
  {
   "cell_type": "markdown",
   "metadata": {
    "id": "tgoTRk8lWCBK"
   },
   "source": [
    "p-val is less than 0.005, so we CAN conclude that there is a significant difference in the mean ratings of the movies in the Jurassic Park franchise --> INCONSISTENCY"
   ]
  },
  {
   "cell_type": "markdown",
   "metadata": {
    "id": "HR_54mW4WFa9"
   },
   "source": [
    "## Franchise 6 - Pirates of the Caribbean"
   ]
  },
  {
   "cell_type": "code",
   "execution_count": 35,
   "metadata": {
    "id": "RONbLKmQWCpt"
   },
   "outputs": [],
   "source": [
    "#get data\n",
    "pirates_df = data.filter(regex='Pirates of the Caribbean')\n",
    "pirates_df = pirates_df.apply(pd.to_numeric, errors='coerce')"
   ]
  },
  {
   "cell_type": "code",
   "execution_count": 36,
   "metadata": {
    "id": "QWFVLjtUWJ4q"
   },
   "outputs": [],
   "source": [
    "#row-wise removal of NaN\n",
    "pirates_clean = pirates_df.dropna().reset_index(drop=True)"
   ]
  },
  {
   "cell_type": "code",
   "execution_count": 37,
   "metadata": {
    "colab": {
     "base_uri": "https://localhost:8080/"
    },
    "id": "Jm54kpzGWLhq",
    "outputId": "8c3084bb-4e2b-4b46-8acd-dfb74eeed34f"
   },
   "outputs": [
    {
     "data": {
      "text/plain": [
       "F_onewayResult(statistic=3.4465950041304323, pvalue=0.03207932803269902)"
      ]
     },
     "execution_count": 37,
     "metadata": {},
     "output_type": "execute_result"
    }
   ],
   "source": [
    "#ANOVA\n",
    "stats.f_oneway(pirates_clean[\"Pirates of the Caribbean: Dead Man's Chest (2006)\"], pirates_clean[\"Pirates of the Caribbean: At World's End (2007)\"], pirates_clean[\"Pirates of the Caribbean: The Curse of the Black Pearl (2003)\"])"
   ]
  },
  {
   "cell_type": "markdown",
   "metadata": {
    "id": "XpnpIOr9WNTA"
   },
   "source": [
    "p-val is greater than 0.005, so we CANNOT conclude that there is a significant difference in the mean ratings of the movies in the Pirates of the Caribbean franchise --> LACK OF INCONSISTENCY"
   ]
  },
  {
   "cell_type": "markdown",
   "metadata": {
    "id": "XduDNZqpWPDu"
   },
   "source": [
    "## Franchise 7 - Toy Story"
   ]
  },
  {
   "cell_type": "code",
   "execution_count": 38,
   "metadata": {
    "id": "U_EaP2A6WNDm"
   },
   "outputs": [],
   "source": [
    "#get data\n",
    "toystory_df = data.filter(regex='Toy Story')\n",
    "toystory_df = toystory_df.apply(pd.to_numeric, errors='coerce')"
   ]
  },
  {
   "cell_type": "code",
   "execution_count": 39,
   "metadata": {
    "id": "E0kavwC-WUFl"
   },
   "outputs": [],
   "source": [
    "#row-wise removal of NaN\n",
    "toystory_clean = toystory_df.dropna().reset_index(drop=True)"
   ]
  },
  {
   "cell_type": "code",
   "execution_count": 40,
   "metadata": {
    "colab": {
     "base_uri": "https://localhost:8080/"
    },
    "id": "xRGyn-0VWVru",
    "outputId": "b444d556-a775-4ca6-9280-68814b61bab3"
   },
   "outputs": [
    {
     "data": {
      "text/plain": [
       "F_onewayResult(statistic=7.5881445425788305, pvalue=0.0005193828629536134)"
      ]
     },
     "execution_count": 40,
     "metadata": {},
     "output_type": "execute_result"
    }
   ],
   "source": [
    "#ANOVA\n",
    "stats.f_oneway(toystory_clean[\"Toy Story 2 (1999)\"], toystory_clean[\"Toy Story 3 (2010)\"], toystory_clean[\"Toy Story (1995)\"])"
   ]
  },
  {
   "cell_type": "markdown",
   "metadata": {
    "id": "6AGs13c3WYn1"
   },
   "source": [
    "p-val is less than 0.005, so we CAN conclude that there is a significant difference in the mean ratings of the movies in the Toy Story franchise --> INCONSISTENCY"
   ]
  },
  {
   "cell_type": "markdown",
   "metadata": {
    "id": "ZdaWtJTcWZgi"
   },
   "source": [
    "## Franchise 8 - Batman"
   ]
  },
  {
   "cell_type": "code",
   "execution_count": 41,
   "metadata": {
    "id": "MbRNomCrWXMZ"
   },
   "outputs": [],
   "source": [
    "#get data\n",
    "batman_df = data.filter(regex='Batman')\n",
    "batman_df = batman_df.apply(pd.to_numeric, errors='coerce')"
   ]
  },
  {
   "cell_type": "code",
   "execution_count": 42,
   "metadata": {
    "id": "GmEsCssuWd3T"
   },
   "outputs": [],
   "source": [
    "#row-wise removal of NaN\n",
    "batman_clean = batman_df.dropna().reset_index(drop=True)"
   ]
  },
  {
   "cell_type": "code",
   "execution_count": 43,
   "metadata": {
    "colab": {
     "base_uri": "https://localhost:8080/"
    },
    "id": "kHVpTQ0RWhKJ",
    "outputId": "c661641f-f686-4201-f844-94dbed51f5d1"
   },
   "outputs": [
    {
     "data": {
      "text/plain": [
       "F_onewayResult(statistic=43.62587891516757, pvalue=1.6410731510652519e-18)"
      ]
     },
     "execution_count": 43,
     "metadata": {},
     "output_type": "execute_result"
    }
   ],
   "source": [
    "#ANOVA\n",
    "stats.f_oneway(batman_clean[\"Batman & Robin (1997)\"], batman_clean[\"Batman (1989)\"], batman_clean[\"Batman: The Dark Knight (2008)\"])"
   ]
  },
  {
   "cell_type": "markdown",
   "metadata": {
    "id": "Z7RMeqYsWiyK"
   },
   "source": [
    "p-val is less than 0.005, so we CAN conclude that there is a significant difference in the mean ratings of the movies in the Batman franchise --> INCONSISTENCY"
   ]
  },
  {
   "cell_type": "markdown",
   "metadata": {
    "id": "WIz02cqYWjkY"
   },
   "source": [
    "# Extra Credit: \n",
    "Do people who like driving fast rate the fast and furious movie differenlty than the ppl who don't like driving fast?"
   ]
  },
  {
   "cell_type": "code",
   "execution_count": 44,
   "metadata": {
    "id": "Kyj7a_FOWr2P"
   },
   "outputs": [],
   "source": [
    "#get data\n",
    "fast_movie = pd.to_numeric(data['The Fast and the Furious (2001)'],errors='coerce').values\n",
    "fast_driver = pd.to_numeric(data['I enjoy driving fast'],errors='coerce').values"
   ]
  },
  {
   "cell_type": "code",
   "execution_count": 45,
   "metadata": {
    "id": "FmXjNgC9WvCo"
   },
   "outputs": [],
   "source": [
    "#row-wise removal of Nan values\n",
    "list_tuples_fast = list(zip(fast_movie, fast_driver))\n",
    "\n",
    "fast_df = pd.DataFrame(list_tuples_fast)\n",
    "\n",
    "fast = fast_df.dropna()"
   ]
  },
  {
   "cell_type": "code",
   "execution_count": 46,
   "metadata": {
    "id": "SZ3JNq17Ww8e"
   },
   "outputs": [],
   "source": [
    "#split at 3, assuming 3 is neutral --> 1-2 is low/disagree, 4-5 is high/agree\n",
    "fast_low = fast[fast[1]<3]\n",
    "fast_high = fast[fast[1]>3]"
   ]
  },
  {
   "cell_type": "code",
   "execution_count": 47,
   "metadata": {
    "id": "IlZgtw4fWycP"
   },
   "outputs": [
    {
     "data": {
      "text/plain": [
       "MannwhitneyuResult(statistic=18901.0, pvalue=0.15426934747495427)"
      ]
     },
     "execution_count": 47,
     "metadata": {},
     "output_type": "execute_result"
    }
   ],
   "source": [
    "#Mann Whitney test\n",
    "stats.mannwhitneyu(fast_low[0], fast_high[0])"
   ]
  },
  {
   "cell_type": "markdown",
   "metadata": {
    "id": "8g8ZBv2PW0zQ"
   },
   "source": [
    "p-val is greater than 0.05, so we CANNOT conclude that there is a significant difference in the median ratings of the Fast and the Furious (2001) between people who like to drive fast and those who do not"
   ]
  },
  {
   "cell_type": "code",
   "execution_count": null,
   "metadata": {
    "id": "tCJPq7TCnYPa"
   },
   "outputs": [],
   "source": []
  }
 ],
 "metadata": {
  "colab": {
   "collapsed_sections": [
    "Uqc-jsbDGmSV",
    "WomutZ6kUfwp",
    "wTJtDg1CU9ZJ"
   ],
   "provenance": []
  },
  "kernelspec": {
   "display_name": "Python 3 (ipykernel)",
   "language": "python",
   "name": "python3"
  },
  "language_info": {
   "codemirror_mode": {
    "name": "ipython",
    "version": 3
   },
   "file_extension": ".py",
   "mimetype": "text/x-python",
   "name": "python",
   "nbconvert_exporter": "python",
   "pygments_lexer": "ipython3",
   "version": "3.11.4"
  }
 },
 "nbformat": 4,
 "nbformat_minor": 1
}
