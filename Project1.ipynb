{
 "cells": [
  {
   "cell_type": "code",
   "execution_count": 1,
   "id": "b3705dd9",
   "metadata": {},
   "outputs": [],
   "source": [
    "import pandas as pd\n",
    "from scipy import stats\n",
    "import matplotlib.pyplot as plt"
   ]
  },
  {
   "cell_type": "code",
   "execution_count": 2,
   "id": "b9ada21c",
   "metadata": {},
   "outputs": [],
   "source": [
    "#read data\n",
    "data_df = pd.read_csv('movieReplicationSet.csv')"
   ]
  },
  {
   "cell_type": "code",
   "execution_count": 3,
   "id": "86814e86",
   "metadata": {},
   "outputs": [
    {
     "data": {
      "text/html": [
       "<div>\n",
       "<style scoped>\n",
       "    .dataframe tbody tr th:only-of-type {\n",
       "        vertical-align: middle;\n",
       "    }\n",
       "\n",
       "    .dataframe tbody tr th {\n",
       "        vertical-align: top;\n",
       "    }\n",
       "\n",
       "    .dataframe thead th {\n",
       "        text-align: right;\n",
       "    }\n",
       "</style>\n",
       "<table border=\"1\" class=\"dataframe\">\n",
       "  <thead>\n",
       "    <tr style=\"text-align: right;\">\n",
       "      <th></th>\n",
       "      <th>The Life of David Gale (2003)</th>\n",
       "      <th>Wing Commander (1999)</th>\n",
       "      <th>Django Unchained (2012)</th>\n",
       "      <th>Alien (1979)</th>\n",
       "      <th>Indiana Jones and the Last Crusade (1989)</th>\n",
       "      <th>Snatch (2000)</th>\n",
       "      <th>Rambo: First Blood Part II (1985)</th>\n",
       "      <th>Fargo (1996)</th>\n",
       "      <th>Let the Right One In (2008)</th>\n",
       "      <th>Black Swan (2010)</th>\n",
       "      <th>...</th>\n",
       "      <th>When watching a movie I cheer or shout or talk or curse at the screen</th>\n",
       "      <th>When watching a movie I feel like the things on the screen are happening to me</th>\n",
       "      <th>As a movie unfolds I start to have problems keeping track of events that happened earlier</th>\n",
       "      <th>The emotions on the screen \"rub off\" on me - for instance if something sad is happening I get sad or if something frightening is happening I get scared</th>\n",
       "      <th>When watching a movie I get completely immersed in the alternative reality of the film</th>\n",
       "      <th>Movies change my position on social economic or political issues</th>\n",
       "      <th>When watching movies things get so intense that I have to stop watching</th>\n",
       "      <th>Gender identity (1 = female; 2 = male; 3 = self-described)</th>\n",
       "      <th>Are you an only child? (1: Yes; 0: No; -1: Did not respond)</th>\n",
       "      <th>Movies are best enjoyed alone (1: Yes; 0: No; -1: Did not respond)</th>\n",
       "    </tr>\n",
       "  </thead>\n",
       "  <tbody>\n",
       "    <tr>\n",
       "      <th>0</th>\n",
       "      <td>NaN</td>\n",
       "      <td>NaN</td>\n",
       "      <td>4.0</td>\n",
       "      <td>NaN</td>\n",
       "      <td>3.0</td>\n",
       "      <td>NaN</td>\n",
       "      <td>NaN</td>\n",
       "      <td>NaN</td>\n",
       "      <td>NaN</td>\n",
       "      <td>NaN</td>\n",
       "      <td>...</td>\n",
       "      <td>1.0</td>\n",
       "      <td>6.0</td>\n",
       "      <td>2.0</td>\n",
       "      <td>5.0</td>\n",
       "      <td>5.0</td>\n",
       "      <td>5.0</td>\n",
       "      <td>1.0</td>\n",
       "      <td>1.0</td>\n",
       "      <td>0</td>\n",
       "      <td>1</td>\n",
       "    </tr>\n",
       "    <tr>\n",
       "      <th>1</th>\n",
       "      <td>NaN</td>\n",
       "      <td>NaN</td>\n",
       "      <td>1.5</td>\n",
       "      <td>NaN</td>\n",
       "      <td>NaN</td>\n",
       "      <td>NaN</td>\n",
       "      <td>NaN</td>\n",
       "      <td>NaN</td>\n",
       "      <td>NaN</td>\n",
       "      <td>NaN</td>\n",
       "      <td>...</td>\n",
       "      <td>3.0</td>\n",
       "      <td>1.0</td>\n",
       "      <td>1.0</td>\n",
       "      <td>6.0</td>\n",
       "      <td>5.0</td>\n",
       "      <td>3.0</td>\n",
       "      <td>2.0</td>\n",
       "      <td>1.0</td>\n",
       "      <td>0</td>\n",
       "      <td>0</td>\n",
       "    </tr>\n",
       "    <tr>\n",
       "      <th>2</th>\n",
       "      <td>NaN</td>\n",
       "      <td>NaN</td>\n",
       "      <td>NaN</td>\n",
       "      <td>NaN</td>\n",
       "      <td>NaN</td>\n",
       "      <td>NaN</td>\n",
       "      <td>NaN</td>\n",
       "      <td>NaN</td>\n",
       "      <td>NaN</td>\n",
       "      <td>NaN</td>\n",
       "      <td>...</td>\n",
       "      <td>5.0</td>\n",
       "      <td>4.0</td>\n",
       "      <td>3.0</td>\n",
       "      <td>5.0</td>\n",
       "      <td>5.0</td>\n",
       "      <td>4.0</td>\n",
       "      <td>4.0</td>\n",
       "      <td>1.0</td>\n",
       "      <td>1</td>\n",
       "      <td>0</td>\n",
       "    </tr>\n",
       "    <tr>\n",
       "      <th>3</th>\n",
       "      <td>NaN</td>\n",
       "      <td>NaN</td>\n",
       "      <td>2.0</td>\n",
       "      <td>NaN</td>\n",
       "      <td>3.0</td>\n",
       "      <td>NaN</td>\n",
       "      <td>NaN</td>\n",
       "      <td>NaN</td>\n",
       "      <td>NaN</td>\n",
       "      <td>4.0</td>\n",
       "      <td>...</td>\n",
       "      <td>3.0</td>\n",
       "      <td>1.0</td>\n",
       "      <td>1.0</td>\n",
       "      <td>4.0</td>\n",
       "      <td>5.0</td>\n",
       "      <td>3.0</td>\n",
       "      <td>1.0</td>\n",
       "      <td>1.0</td>\n",
       "      <td>0</td>\n",
       "      <td>1</td>\n",
       "    </tr>\n",
       "    <tr>\n",
       "      <th>4</th>\n",
       "      <td>NaN</td>\n",
       "      <td>NaN</td>\n",
       "      <td>3.5</td>\n",
       "      <td>NaN</td>\n",
       "      <td>0.5</td>\n",
       "      <td>NaN</td>\n",
       "      <td>0.5</td>\n",
       "      <td>1.0</td>\n",
       "      <td>NaN</td>\n",
       "      <td>0.0</td>\n",
       "      <td>...</td>\n",
       "      <td>2.0</td>\n",
       "      <td>3.0</td>\n",
       "      <td>2.0</td>\n",
       "      <td>5.0</td>\n",
       "      <td>6.0</td>\n",
       "      <td>4.0</td>\n",
       "      <td>4.0</td>\n",
       "      <td>1.0</td>\n",
       "      <td>1</td>\n",
       "      <td>1</td>\n",
       "    </tr>\n",
       "    <tr>\n",
       "      <th>...</th>\n",
       "      <td>...</td>\n",
       "      <td>...</td>\n",
       "      <td>...</td>\n",
       "      <td>...</td>\n",
       "      <td>...</td>\n",
       "      <td>...</td>\n",
       "      <td>...</td>\n",
       "      <td>...</td>\n",
       "      <td>...</td>\n",
       "      <td>...</td>\n",
       "      <td>...</td>\n",
       "      <td>...</td>\n",
       "      <td>...</td>\n",
       "      <td>...</td>\n",
       "      <td>...</td>\n",
       "      <td>...</td>\n",
       "      <td>...</td>\n",
       "      <td>...</td>\n",
       "      <td>...</td>\n",
       "      <td>...</td>\n",
       "      <td>...</td>\n",
       "    </tr>\n",
       "    <tr>\n",
       "      <th>1092</th>\n",
       "      <td>NaN</td>\n",
       "      <td>NaN</td>\n",
       "      <td>NaN</td>\n",
       "      <td>NaN</td>\n",
       "      <td>3.5</td>\n",
       "      <td>NaN</td>\n",
       "      <td>NaN</td>\n",
       "      <td>NaN</td>\n",
       "      <td>NaN</td>\n",
       "      <td>NaN</td>\n",
       "      <td>...</td>\n",
       "      <td>3.0</td>\n",
       "      <td>4.0</td>\n",
       "      <td>3.0</td>\n",
       "      <td>5.0</td>\n",
       "      <td>5.0</td>\n",
       "      <td>4.0</td>\n",
       "      <td>4.0</td>\n",
       "      <td>1.0</td>\n",
       "      <td>0</td>\n",
       "      <td>0</td>\n",
       "    </tr>\n",
       "    <tr>\n",
       "      <th>1093</th>\n",
       "      <td>3.0</td>\n",
       "      <td>4.0</td>\n",
       "      <td>NaN</td>\n",
       "      <td>NaN</td>\n",
       "      <td>4.0</td>\n",
       "      <td>4.0</td>\n",
       "      <td>2.5</td>\n",
       "      <td>NaN</td>\n",
       "      <td>3.5</td>\n",
       "      <td>3.5</td>\n",
       "      <td>...</td>\n",
       "      <td>5.0</td>\n",
       "      <td>3.0</td>\n",
       "      <td>5.0</td>\n",
       "      <td>5.0</td>\n",
       "      <td>5.0</td>\n",
       "      <td>6.0</td>\n",
       "      <td>5.0</td>\n",
       "      <td>1.0</td>\n",
       "      <td>0</td>\n",
       "      <td>0</td>\n",
       "    </tr>\n",
       "    <tr>\n",
       "      <th>1094</th>\n",
       "      <td>NaN</td>\n",
       "      <td>NaN</td>\n",
       "      <td>NaN</td>\n",
       "      <td>NaN</td>\n",
       "      <td>NaN</td>\n",
       "      <td>NaN</td>\n",
       "      <td>NaN</td>\n",
       "      <td>3.5</td>\n",
       "      <td>NaN</td>\n",
       "      <td>NaN</td>\n",
       "      <td>...</td>\n",
       "      <td>6.0</td>\n",
       "      <td>3.0</td>\n",
       "      <td>1.0</td>\n",
       "      <td>6.0</td>\n",
       "      <td>6.0</td>\n",
       "      <td>4.0</td>\n",
       "      <td>2.0</td>\n",
       "      <td>1.0</td>\n",
       "      <td>0</td>\n",
       "      <td>0</td>\n",
       "    </tr>\n",
       "    <tr>\n",
       "      <th>1095</th>\n",
       "      <td>NaN</td>\n",
       "      <td>NaN</td>\n",
       "      <td>NaN</td>\n",
       "      <td>NaN</td>\n",
       "      <td>NaN</td>\n",
       "      <td>NaN</td>\n",
       "      <td>NaN</td>\n",
       "      <td>NaN</td>\n",
       "      <td>NaN</td>\n",
       "      <td>NaN</td>\n",
       "      <td>...</td>\n",
       "      <td>1.0</td>\n",
       "      <td>1.0</td>\n",
       "      <td>1.0</td>\n",
       "      <td>4.0</td>\n",
       "      <td>3.0</td>\n",
       "      <td>3.0</td>\n",
       "      <td>1.0</td>\n",
       "      <td>1.0</td>\n",
       "      <td>0</td>\n",
       "      <td>1</td>\n",
       "    </tr>\n",
       "    <tr>\n",
       "      <th>1096</th>\n",
       "      <td>NaN</td>\n",
       "      <td>NaN</td>\n",
       "      <td>4.0</td>\n",
       "      <td>NaN</td>\n",
       "      <td>2.5</td>\n",
       "      <td>NaN</td>\n",
       "      <td>NaN</td>\n",
       "      <td>3.0</td>\n",
       "      <td>NaN</td>\n",
       "      <td>3.5</td>\n",
       "      <td>...</td>\n",
       "      <td>3.0</td>\n",
       "      <td>4.0</td>\n",
       "      <td>1.0</td>\n",
       "      <td>4.0</td>\n",
       "      <td>4.0</td>\n",
       "      <td>4.0</td>\n",
       "      <td>1.0</td>\n",
       "      <td>1.0</td>\n",
       "      <td>0</td>\n",
       "      <td>1</td>\n",
       "    </tr>\n",
       "  </tbody>\n",
       "</table>\n",
       "<p>1097 rows × 477 columns</p>\n",
       "</div>"
      ],
      "text/plain": [
       "      The Life of David Gale (2003)  Wing Commander (1999)  \\\n",
       "0                               NaN                    NaN   \n",
       "1                               NaN                    NaN   \n",
       "2                               NaN                    NaN   \n",
       "3                               NaN                    NaN   \n",
       "4                               NaN                    NaN   \n",
       "...                             ...                    ...   \n",
       "1092                            NaN                    NaN   \n",
       "1093                            3.0                    4.0   \n",
       "1094                            NaN                    NaN   \n",
       "1095                            NaN                    NaN   \n",
       "1096                            NaN                    NaN   \n",
       "\n",
       "      Django Unchained (2012)  Alien (1979)  \\\n",
       "0                         4.0           NaN   \n",
       "1                         1.5           NaN   \n",
       "2                         NaN           NaN   \n",
       "3                         2.0           NaN   \n",
       "4                         3.5           NaN   \n",
       "...                       ...           ...   \n",
       "1092                      NaN           NaN   \n",
       "1093                      NaN           NaN   \n",
       "1094                      NaN           NaN   \n",
       "1095                      NaN           NaN   \n",
       "1096                      4.0           NaN   \n",
       "\n",
       "      Indiana Jones and the Last Crusade (1989)  Snatch (2000)  \\\n",
       "0                                           3.0            NaN   \n",
       "1                                           NaN            NaN   \n",
       "2                                           NaN            NaN   \n",
       "3                                           3.0            NaN   \n",
       "4                                           0.5            NaN   \n",
       "...                                         ...            ...   \n",
       "1092                                        3.5            NaN   \n",
       "1093                                        4.0            4.0   \n",
       "1094                                        NaN            NaN   \n",
       "1095                                        NaN            NaN   \n",
       "1096                                        2.5            NaN   \n",
       "\n",
       "      Rambo: First Blood Part II (1985)  Fargo (1996)  \\\n",
       "0                                   NaN           NaN   \n",
       "1                                   NaN           NaN   \n",
       "2                                   NaN           NaN   \n",
       "3                                   NaN           NaN   \n",
       "4                                   0.5           1.0   \n",
       "...                                 ...           ...   \n",
       "1092                                NaN           NaN   \n",
       "1093                                2.5           NaN   \n",
       "1094                                NaN           3.5   \n",
       "1095                                NaN           NaN   \n",
       "1096                                NaN           3.0   \n",
       "\n",
       "      Let the Right One In (2008)  Black Swan (2010)  ...  \\\n",
       "0                             NaN                NaN  ...   \n",
       "1                             NaN                NaN  ...   \n",
       "2                             NaN                NaN  ...   \n",
       "3                             NaN                4.0  ...   \n",
       "4                             NaN                0.0  ...   \n",
       "...                           ...                ...  ...   \n",
       "1092                          NaN                NaN  ...   \n",
       "1093                          3.5                3.5  ...   \n",
       "1094                          NaN                NaN  ...   \n",
       "1095                          NaN                NaN  ...   \n",
       "1096                          NaN                3.5  ...   \n",
       "\n",
       "      When watching a movie I cheer or shout or talk or curse at the screen  \\\n",
       "0                                                   1.0                       \n",
       "1                                                   3.0                       \n",
       "2                                                   5.0                       \n",
       "3                                                   3.0                       \n",
       "4                                                   2.0                       \n",
       "...                                                 ...                       \n",
       "1092                                                3.0                       \n",
       "1093                                                5.0                       \n",
       "1094                                                6.0                       \n",
       "1095                                                1.0                       \n",
       "1096                                                3.0                       \n",
       "\n",
       "      When watching a movie I feel like the things on the screen are happening to me  \\\n",
       "0                                                   6.0                                \n",
       "1                                                   1.0                                \n",
       "2                                                   4.0                                \n",
       "3                                                   1.0                                \n",
       "4                                                   3.0                                \n",
       "...                                                 ...                                \n",
       "1092                                                4.0                                \n",
       "1093                                                3.0                                \n",
       "1094                                                3.0                                \n",
       "1095                                                1.0                                \n",
       "1096                                                4.0                                \n",
       "\n",
       "      As a movie unfolds I start to have problems keeping track of events that happened earlier  \\\n",
       "0                                                   2.0                                           \n",
       "1                                                   1.0                                           \n",
       "2                                                   3.0                                           \n",
       "3                                                   1.0                                           \n",
       "4                                                   2.0                                           \n",
       "...                                                 ...                                           \n",
       "1092                                                3.0                                           \n",
       "1093                                                5.0                                           \n",
       "1094                                                1.0                                           \n",
       "1095                                                1.0                                           \n",
       "1096                                                1.0                                           \n",
       "\n",
       "      The emotions on the screen \"rub off\" on me - for instance if something sad is happening I get sad or if something frightening is happening I get scared  \\\n",
       "0                                                   5.0                                                                                                         \n",
       "1                                                   6.0                                                                                                         \n",
       "2                                                   5.0                                                                                                         \n",
       "3                                                   4.0                                                                                                         \n",
       "4                                                   5.0                                                                                                         \n",
       "...                                                 ...                                                                                                         \n",
       "1092                                                5.0                                                                                                         \n",
       "1093                                                5.0                                                                                                         \n",
       "1094                                                6.0                                                                                                         \n",
       "1095                                                4.0                                                                                                         \n",
       "1096                                                4.0                                                                                                         \n",
       "\n",
       "      When watching a movie I get completely immersed in the alternative reality of the film  \\\n",
       "0                                                   5.0                                        \n",
       "1                                                   5.0                                        \n",
       "2                                                   5.0                                        \n",
       "3                                                   5.0                                        \n",
       "4                                                   6.0                                        \n",
       "...                                                 ...                                        \n",
       "1092                                                5.0                                        \n",
       "1093                                                5.0                                        \n",
       "1094                                                6.0                                        \n",
       "1095                                                3.0                                        \n",
       "1096                                                4.0                                        \n",
       "\n",
       "      Movies change my position on social economic or political issues  \\\n",
       "0                                                   5.0                  \n",
       "1                                                   3.0                  \n",
       "2                                                   4.0                  \n",
       "3                                                   3.0                  \n",
       "4                                                   4.0                  \n",
       "...                                                 ...                  \n",
       "1092                                                4.0                  \n",
       "1093                                                6.0                  \n",
       "1094                                                4.0                  \n",
       "1095                                                3.0                  \n",
       "1096                                                4.0                  \n",
       "\n",
       "      When watching movies things get so intense that I have to stop watching  \\\n",
       "0                                                   1.0                         \n",
       "1                                                   2.0                         \n",
       "2                                                   4.0                         \n",
       "3                                                   1.0                         \n",
       "4                                                   4.0                         \n",
       "...                                                 ...                         \n",
       "1092                                                4.0                         \n",
       "1093                                                5.0                         \n",
       "1094                                                2.0                         \n",
       "1095                                                1.0                         \n",
       "1096                                                1.0                         \n",
       "\n",
       "      Gender identity (1 = female; 2 = male; 3 = self-described)  \\\n",
       "0                                                   1.0            \n",
       "1                                                   1.0            \n",
       "2                                                   1.0            \n",
       "3                                                   1.0            \n",
       "4                                                   1.0            \n",
       "...                                                 ...            \n",
       "1092                                                1.0            \n",
       "1093                                                1.0            \n",
       "1094                                                1.0            \n",
       "1095                                                1.0            \n",
       "1096                                                1.0            \n",
       "\n",
       "      Are you an only child? (1: Yes; 0: No; -1: Did not respond)  \\\n",
       "0                                                     0             \n",
       "1                                                     0             \n",
       "2                                                     1             \n",
       "3                                                     0             \n",
       "4                                                     1             \n",
       "...                                                 ...             \n",
       "1092                                                  0             \n",
       "1093                                                  0             \n",
       "1094                                                  0             \n",
       "1095                                                  0             \n",
       "1096                                                  0             \n",
       "\n",
       "      Movies are best enjoyed alone (1: Yes; 0: No; -1: Did not respond)  \n",
       "0                                                     1                   \n",
       "1                                                     0                   \n",
       "2                                                     0                   \n",
       "3                                                     1                   \n",
       "4                                                     1                   \n",
       "...                                                 ...                   \n",
       "1092                                                  0                   \n",
       "1093                                                  0                   \n",
       "1094                                                  0                   \n",
       "1095                                                  1                   \n",
       "1096                                                  1                   \n",
       "\n",
       "[1097 rows x 477 columns]"
      ]
     },
     "metadata": {},
     "output_type": "display_data"
    }
   ],
   "source": [
    "#display dataframe\n",
    "display(data_df)"
   ]
  },
  {
   "cell_type": "markdown",
   "id": "a8434041",
   "metadata": {},
   "source": [
    "# 9 "
   ]
  },
  {
   "cell_type": "code",
   "execution_count": 4,
   "id": "eb88c242",
   "metadata": {},
   "outputs": [],
   "source": [
    "#get Home Alone (1990) & Finding Nemo (2003) data\n",
    "M1 = pd.to_numeric(data_df['Home Alone (1990)'],errors='coerce').values\n",
    "M2 = pd.to_numeric(data_df['Finding Nemo (2003)'],errors='coerce').values"
   ]
  },
  {
   "cell_type": "code",
   "execution_count": 5,
   "id": "138c8fb7",
   "metadata": {},
   "outputs": [],
   "source": [
    "#row-wise removal of Nan values - so we don't only capture die-hard fans of the movies (want ppl who saw both)\n",
    "list_tuples = list(zip(M1, M2))\n",
    "\n",
    "M1M2_df = pd.DataFrame(list_tuples)\n",
    "\n",
    "M1M2 = M1M2_df.dropna()"
   ]
  },
  {
   "cell_type": "code",
   "execution_count": 7,
   "id": "33d7b95e",
   "metadata": {},
   "outputs": [
    {
     "data": {
      "text/plain": [
       "810"
      ]
     },
     "execution_count": 7,
     "metadata": {},
     "output_type": "execute_result"
    }
   ],
   "source": [
    "#check length to see how many data were lost\n",
    "len(M1M2)"
   ]
  },
  {
   "cell_type": "code",
   "execution_count": 8,
   "id": "0121ef00",
   "metadata": {},
   "outputs": [],
   "source": [
    "#split data back into 2 vectors\n",
    "M1 = M1M2[0]\n",
    "M2 = M1M2[1]"
   ]
  },
  {
   "cell_type": "code",
   "execution_count": 9,
   "id": "ebb97755",
   "metadata": {},
   "outputs": [
    {
     "data": {
      "text/plain": [
       "KstestResult(statistic=0.16790123456790124, pvalue=2.2038507937682687e-10, statistic_location=3.0, statistic_sign=1)"
      ]
     },
     "execution_count": 9,
     "metadata": {},
     "output_type": "execute_result"
    }
   ],
   "source": [
    "#KS test\n",
    "stats.kstest(M1, M2)"
   ]
  },
  {
   "cell_type": "markdown",
   "id": "a0b4cb08",
   "metadata": {},
   "source": [
    "p-val is less than 0.005 therefore, we CAN conclude that there is a significant difference in the ratings distributions of Home Alone and Finding Nemo"
   ]
  },
  {
   "cell_type": "code",
   "execution_count": 23,
   "id": "d8ec2456",
   "metadata": {},
   "outputs": [
    {
     "data": {
      "text/plain": [
       "<matplotlib.legend.Legend at 0x1363283d0>"
      ]
     },
     "execution_count": 23,
     "metadata": {},
     "output_type": "execute_result"
    },
    {
     "data": {
      "image/png": "[encoded data removed]",
      "text/plain": [
       "<Figure size 640x480 with 1 Axes>"
      ]
     },
     "metadata": {},
     "output_type": "display_data"
    }
   ],
   "source": [
    "plt.hist(M1, color='lightgrey', ec='black', bins=15, label='Home Alone (1990)', alpha=1)\n",
    "plt.hist(M2, color='orange', ec='black', bins=15, label='Finding Nemo (2003)', alpha=0.5)\n",
    "plt.title('Distribution Comparison')\n",
    "plt.xlabel('Ratings')\n",
    "plt.ylabel('Rating Frequencies')\n",
    "plt.legend()"
   ]
  },
  {
   "cell_type": "code",
   "execution_count": 24,
   "id": "46b387bb",
   "metadata": {},
   "outputs": [
    {
     "data": {
      "text/plain": [
       "array([ 5.,  4.,  1.,  3.,  2., nan])"
      ]
     },
     "execution_count": 24,
     "metadata": {},
     "output_type": "execute_result"
    }
   ],
   "source": [
    "data_df[\"I enjoy driving fast\"].unique()"
   ]
  },
  {
   "cell_type": "markdown",
   "id": "0f9d1c28",
   "metadata": {},
   "source": [
    "# 10"
   ]
  },
  {
   "cell_type": "markdown",
   "id": "f4f85ef4",
   "metadata": {},
   "source": [
    "want to compare all movies in a given franchise to see if there is inconsistency within the franchise - ANOVA? compare means of ratings?"
   ]
  },
  {
   "cell_type": "markdown",
   "id": "c100d540",
   "metadata": {},
   "source": [
    "### Franchise 1 - Star Wars"
   ]
  },
  {
   "cell_type": "code",
   "execution_count": 46,
   "id": "e640495f",
   "metadata": {},
   "outputs": [],
   "source": [
    "#get data\n",
    "starwars_df = data_df.filter(regex='Star Wars')\n",
    "starwars_df = starwars_df.apply(pd.to_numeric, errors='coerce')"
   ]
  },
  {
   "cell_type": "raw",
   "id": "923221bf",
   "metadata": {},
   "source": [
    "display(starwars_df)"
   ]
  },
  {
   "cell_type": "code",
   "execution_count": 54,
   "id": "bf804d11",
   "metadata": {},
   "outputs": [],
   "source": [
    "#row-wise removal of NaN\n",
    "starwars_clean = starwars_df.dropna().reset_index(drop=True)"
   ]
  },
  {
   "cell_type": "code",
   "execution_count": 55,
   "id": "66e9bfe7",
   "metadata": {},
   "outputs": [
    {
     "data": {
      "text/plain": [
       "333"
      ]
     },
     "execution_count": 55,
     "metadata": {},
     "output_type": "execute_result"
    }
   ],
   "source": [
    "len(starwars_clean)"
   ]
  },
  {
   "cell_type": "raw",
   "id": "7debcf37",
   "metadata": {},
   "source": [
    "starwars_clean"
   ]
  },
  {
   "cell_type": "code",
   "execution_count": 59,
   "id": "c6431c90",
   "metadata": {},
   "outputs": [
    {
     "data": {
      "text/plain": [
       "F_onewayResult(statistic=39.029939613074056, pvalue=2.399595163532992e-38)"
      ]
     },
     "execution_count": 59,
     "metadata": {},
     "output_type": "execute_result"
    }
   ],
   "source": [
    "#ANOVA\n",
    "stats.f_oneway(starwars_clean['Star Wars: Episode IV - A New Hope (1977)'], starwars_clean['Star Wars: Episode II - Attack of the Clones (2002)'], starwars_clean['Star Wars: Episode V - The Empire Strikes Back (1980)'], starwars_clean['Star Wars: Episode 1 - The Phantom Menace (1999)'], starwars_clean['Star Wars: Episode VII - The Force Awakens (2015)'], starwars_clean['Star Wars: Episode VI - The Return of the Jedi (1983)'])"
   ]
  },
  {
   "cell_type": "markdown",
   "id": "ee186d5f",
   "metadata": {},
   "source": [
    "p-val is less than 0.005, so we CAN conclude that there is a significant difference in the mean ratings of the movies in the Star Wars franchise --> INCONSISTENCY"
   ]
  },
  {
   "cell_type": "markdown",
   "id": "2585f036",
   "metadata": {},
   "source": [
    "### Franchise 2 - Harry Potter"
   ]
  },
  {
   "cell_type": "code",
   "execution_count": 62,
   "id": "82570018",
   "metadata": {},
   "outputs": [],
   "source": [
    "#get data\n",
    "harrypotter_df = data_df.filter(regex='Harry Potter')\n",
    "harrypotter_df = harrypotter_df.apply(pd.to_numeric, errors='coerce')"
   ]
  },
  {
   "cell_type": "raw",
   "id": "9ffb29bb",
   "metadata": {},
   "source": [
    "display(harrypotter_df)"
   ]
  },
  {
   "cell_type": "code",
   "execution_count": 64,
   "id": "41335c27",
   "metadata": {},
   "outputs": [],
   "source": [
    "#row-wise removal of NaN\n",
    "harrypotter_clean = harrypotter_df.dropna().reset_index(drop=True)"
   ]
  },
  {
   "cell_type": "code",
   "execution_count": 65,
   "id": "55fcf61a",
   "metadata": {},
   "outputs": [
    {
     "data": {
      "text/plain": [
       "710"
      ]
     },
     "execution_count": 65,
     "metadata": {},
     "output_type": "execute_result"
    }
   ],
   "source": [
    "len(harrypotter_clean)"
   ]
  },
  {
   "cell_type": "raw",
   "id": "e017ebd8",
   "metadata": {},
   "source": [
    "harrypotter_clean"
   ]
  },
  {
   "cell_type": "code",
   "execution_count": 67,
   "id": "445903ae",
   "metadata": {},
   "outputs": [
    {
     "data": {
      "text/plain": [
       "F_onewayResult(statistic=1.4456904473285563, pvalue=0.2275340290918136)"
      ]
     },
     "execution_count": 67,
     "metadata": {},
     "output_type": "execute_result"
    }
   ],
   "source": [
    "#ANOVA\n",
    "stats.f_oneway(harrypotter_clean[\"Harry Potter and the Sorcerer's Stone (2001)\"], harrypotter_clean[\"Harry Potter and the Deathly Hallows: Part 2 (2011)\"], harrypotter_clean[\"Harry Potter and the Goblet of Fire (2005)\"], harrypotter_clean[\"Harry Potter and the Chamber of Secrets (2002)\"])"
   ]
  },
  {
   "cell_type": "markdown",
   "id": "df59c15a",
   "metadata": {},
   "source": [
    "p-val is greater than 0.005, so we CANNOT conclude that there is a significant difference in the mean ratings of the movies in the Harry Potter franchise --> LACK OF INCONSISTENCY"
   ]
  },
  {
   "cell_type": "markdown",
   "id": "ac75ce8b",
   "metadata": {},
   "source": [
    "### Franchise 3 - The Matrix"
   ]
  },
  {
   "cell_type": "code",
   "execution_count": 93,
   "id": "669a9bfe",
   "metadata": {},
   "outputs": [],
   "source": [
    "#get data\n",
    "matrix_df = data_df.filter(regex='Matrix')\n",
    "matrix_df = matrix_df.apply(pd.to_numeric, errors='coerce')"
   ]
  },
  {
   "cell_type": "raw",
   "id": "78b32257",
   "metadata": {},
   "source": [
    "display(matrix_df)"
   ]
  },
  {
   "cell_type": "code",
   "execution_count": 94,
   "id": "1fa80bfc",
   "metadata": {},
   "outputs": [],
   "source": [
    "#row-wise removal of NaN\n",
    "matrix_clean = matrix_df.dropna().reset_index(drop=True)"
   ]
  },
  {
   "cell_type": "code",
   "execution_count": 95,
   "id": "00ce490d",
   "metadata": {},
   "outputs": [
    {
     "data": {
      "text/plain": [
       "260"
      ]
     },
     "execution_count": 95,
     "metadata": {},
     "output_type": "execute_result"
    }
   ],
   "source": [
    "len(matrix_clean)"
   ]
  },
  {
   "cell_type": "code",
   "execution_count": 97,
   "id": "ec341872",
   "metadata": {},
   "outputs": [
    {
     "data": {
      "text/plain": [
       "F_onewayResult(statistic=18.59281511303809, pvalue=1.2957225925356723e-08)"
      ]
     },
     "execution_count": 97,
     "metadata": {},
     "output_type": "execute_result"
    }
   ],
   "source": [
    "#ANOVA\n",
    "stats.f_oneway(matrix_clean[\"The Matrix Revolutions (2003)\"], matrix_clean[\"The Matrix Reloaded (2003)\"], matrix_clean[\"The Matrix (1999)\"])"
   ]
  },
  {
   "cell_type": "markdown",
   "id": "037233ea",
   "metadata": {},
   "source": [
    "p-val is less than 0.005, so we CAN conclude that there is a significant difference in the mean ratings of the movies in the Matrix franchise --> INCONSISTENCY"
   ]
  },
  {
   "cell_type": "markdown",
   "id": "65029092",
   "metadata": {},
   "source": [
    "### Franchise 4 - Indiana Jones"
   ]
  },
  {
   "cell_type": "code",
   "execution_count": 68,
   "id": "6cb38f41",
   "metadata": {},
   "outputs": [],
   "source": [
    "#get data\n",
    "indianajones_df = data_df.filter(regex='Indiana Jones')\n",
    "indianajones_df = indianajones_df.apply(pd.to_numeric, errors='coerce')"
   ]
  },
  {
   "cell_type": "raw",
   "id": "b73bf895",
   "metadata": {},
   "source": [
    "display(indianajones_df)"
   ]
  },
  {
   "cell_type": "code",
   "execution_count": 70,
   "id": "fabf037c",
   "metadata": {},
   "outputs": [],
   "source": [
    "#row-wise removal of NaN\n",
    "indianajones_clean = indianajones_df.dropna().reset_index(drop=True)"
   ]
  },
  {
   "cell_type": "code",
   "execution_count": 71,
   "id": "7e845555",
   "metadata": {},
   "outputs": [
    {
     "data": {
      "text/plain": [
       "244"
      ]
     },
     "execution_count": 71,
     "metadata": {},
     "output_type": "execute_result"
    }
   ],
   "source": [
    "len(indianajones_clean)"
   ]
  },
  {
   "cell_type": "code",
   "execution_count": 72,
   "id": "ba66ad93",
   "metadata": {},
   "outputs": [
    {
     "data": {
      "text/plain": [
       "F_onewayResult(statistic=19.050958699528884, pvalue=5.20425425762115e-12)"
      ]
     },
     "execution_count": 72,
     "metadata": {},
     "output_type": "execute_result"
    }
   ],
   "source": [
    "#ANOVA\n",
    "stats.f_oneway(indianajones_clean[\"Indiana Jones and the Last Crusade (1989)\"], indianajones_clean[\"Indiana Jones and the Temple of Doom (1984)\"], indianajones_clean[\"Indiana Jones and the Raiders of the Lost Ark (1981)\"], indianajones_clean[\"Indiana Jones and the Kingdom of the Crystal Skull (2008)\"])"
   ]
  },
  {
   "cell_type": "markdown",
   "id": "41dd7d7a",
   "metadata": {},
   "source": [
    "p-val is less than 0.005, so we CAN conclude that there is a significant difference in the mean ratings of the movies in the Indiana Jones franchise --> INCONSISTENCY"
   ]
  },
  {
   "cell_type": "markdown",
   "id": "01e70e97",
   "metadata": {},
   "source": [
    "### Franchise 5 - Jurassic Park"
   ]
  },
  {
   "cell_type": "code",
   "execution_count": 73,
   "id": "6883d969",
   "metadata": {},
   "outputs": [],
   "source": [
    "#get data\n",
    "jurassicpark_df = data_df.filter(regex='Jurassic Park')\n",
    "jurassicpark_df = jurassicpark_df.apply(pd.to_numeric, errors='coerce')"
   ]
  },
  {
   "cell_type": "raw",
   "id": "516c3c6e",
   "metadata": {},
   "source": [
    "display(jurassicpark_df)"
   ]
  },
  {
   "cell_type": "code",
   "execution_count": 75,
   "id": "c93fb4c2",
   "metadata": {},
   "outputs": [],
   "source": [
    "#row-wise removal of NaN\n",
    "jurassicpark_clean = jurassicpark_df.dropna().reset_index(drop=True)"
   ]
  },
  {
   "cell_type": "code",
   "execution_count": 76,
   "id": "64713050",
   "metadata": {},
   "outputs": [
    {
     "data": {
      "text/plain": [
       "398"
      ]
     },
     "execution_count": 76,
     "metadata": {},
     "output_type": "execute_result"
    }
   ],
   "source": [
    "len(jurassicpark_clean)"
   ]
  },
  {
   "cell_type": "code",
   "execution_count": 77,
   "id": "6d34253f",
   "metadata": {},
   "outputs": [
    {
     "data": {
      "text/plain": [
       "F_onewayResult(statistic=22.163615231952207, pvalue=3.542127514286409e-10)"
      ]
     },
     "execution_count": 77,
     "metadata": {},
     "output_type": "execute_result"
    }
   ],
   "source": [
    "#ANOVA\n",
    "stats.f_oneway(jurassicpark_clean[\"The Lost World: Jurassic Park (1997)\"], jurassicpark_clean[\"Jurassic Park III (2001)\"], jurassicpark_clean[\"Jurassic Park (1993)\"])"
   ]
  },
  {
   "cell_type": "markdown",
   "id": "9d00b5aa",
   "metadata": {},
   "source": [
    "p-val is less than 0.005, so we CAN conclude that there is a significant difference in the mean ratings of the movies in the Jurassic Park franchise --> INCONSISTENCY"
   ]
  },
  {
   "cell_type": "markdown",
   "id": "7b3ddb8a",
   "metadata": {},
   "source": [
    "### Franchise 6 - Pirates of the Caribbean"
   ]
  },
  {
   "cell_type": "code",
   "execution_count": 78,
   "id": "7d249f5a",
   "metadata": {},
   "outputs": [],
   "source": [
    "#get data\n",
    "pirates_df = data_df.filter(regex='Pirates of the Caribbean')\n",
    "pirates_df = pirates_df.apply(pd.to_numeric, errors='coerce')"
   ]
  },
  {
   "cell_type": "raw",
   "id": "fd34da91",
   "metadata": {},
   "source": [
    "display(pirates_df)"
   ]
  },
  {
   "cell_type": "code",
   "execution_count": 80,
   "id": "75fbcb7f",
   "metadata": {},
   "outputs": [],
   "source": [
    "#row-wise removal of NaN\n",
    "pirates_clean = pirates_df.dropna().reset_index(drop=True)"
   ]
  },
  {
   "cell_type": "code",
   "execution_count": 81,
   "id": "f2b9ef94",
   "metadata": {},
   "outputs": [
    {
     "data": {
      "text/plain": [
       "561"
      ]
     },
     "execution_count": 81,
     "metadata": {},
     "output_type": "execute_result"
    }
   ],
   "source": [
    "len(pirates_clean)"
   ]
  },
  {
   "cell_type": "code",
   "execution_count": 82,
   "id": "4ebd6305",
   "metadata": {},
   "outputs": [
    {
     "data": {
      "text/plain": [
       "F_onewayResult(statistic=3.4465950041304323, pvalue=0.03207932803269902)"
      ]
     },
     "execution_count": 82,
     "metadata": {},
     "output_type": "execute_result"
    }
   ],
   "source": [
    "#ANOVA\n",
    "stats.f_oneway(pirates_clean[\"Pirates of the Caribbean: Dead Man's Chest (2006)\"], pirates_clean[\"Pirates of the Caribbean: At World's End (2007)\"], pirates_clean[\"Pirates of the Caribbean: The Curse of the Black Pearl (2003)\"])"
   ]
  },
  {
   "cell_type": "markdown",
   "id": "ace7ca5b",
   "metadata": {},
   "source": [
    "p-val is greater than 0.005, so we CANNOT conclude that there is a significant difference in the mean ratings of the movies in the Pirates of the Caribbean franchise --> LACK OF INCONSISTENCY"
   ]
  },
  {
   "cell_type": "markdown",
   "id": "0db4c3d5",
   "metadata": {},
   "source": [
    "### Franchise 7 - Toy Story"
   ]
  },
  {
   "cell_type": "code",
   "execution_count": 83,
   "id": "c010e57e",
   "metadata": {},
   "outputs": [],
   "source": [
    "#get data\n",
    "toystory_df = data_df.filter(regex='Toy Story')\n",
    "toystory_df = toystory_df.apply(pd.to_numeric, errors='coerce')"
   ]
  },
  {
   "cell_type": "raw",
   "id": "a4a807a1",
   "metadata": {},
   "source": [
    "display(toystory_df)"
   ]
  },
  {
   "cell_type": "code",
   "execution_count": 85,
   "id": "276d5519",
   "metadata": {},
   "outputs": [],
   "source": [
    "#row-wise removal of NaN\n",
    "toystory_clean = toystory_df.dropna().reset_index(drop=True)"
   ]
  },
  {
   "cell_type": "code",
   "execution_count": 86,
   "id": "2942cf4c",
   "metadata": {},
   "outputs": [
    {
     "data": {
      "text/plain": [
       "757"
      ]
     },
     "execution_count": 86,
     "metadata": {},
     "output_type": "execute_result"
    }
   ],
   "source": [
    "len(toystory_clean)"
   ]
  },
  {
   "cell_type": "code",
   "execution_count": 87,
   "id": "2c7eda0e",
   "metadata": {},
   "outputs": [
    {
     "data": {
      "text/plain": [
       "F_onewayResult(statistic=7.5881445425788305, pvalue=0.0005193828629536134)"
      ]
     },
     "execution_count": 87,
     "metadata": {},
     "output_type": "execute_result"
    }
   ],
   "source": [
    "#ANOVA\n",
    "stats.f_oneway(toystory_clean[\"Toy Story 2 (1999)\"], toystory_clean[\"Toy Story 3 (2010)\"], toystory_clean[\"Toy Story (1995)\"])"
   ]
  },
  {
   "cell_type": "markdown",
   "id": "51338491",
   "metadata": {},
   "source": [
    "p-val is less than 0.005, so we CAN conclude that there is a significant difference in the mean ratings of the movies in the Toy Story franchise --> INCONSISTENCY"
   ]
  },
  {
   "cell_type": "markdown",
   "id": "cd167327",
   "metadata": {},
   "source": [
    "### Franchise 8 - Batman"
   ]
  },
  {
   "cell_type": "code",
   "execution_count": 88,
   "id": "203d1a58",
   "metadata": {},
   "outputs": [],
   "source": [
    "#get data\n",
    "batman_df = data_df.filter(regex='Batman')\n",
    "batman_df = batman_df.apply(pd.to_numeric, errors='coerce')"
   ]
  },
  {
   "cell_type": "raw",
   "id": "8d2b5be6",
   "metadata": {},
   "source": [
    "display(batman_df)"
   ]
  },
  {
   "cell_type": "code",
   "execution_count": 90,
   "id": "04be3cb1",
   "metadata": {},
   "outputs": [],
   "source": [
    "#row-wise removal of NaN\n",
    "batman_clean = batman_df.dropna().reset_index(drop=True)"
   ]
  },
  {
   "cell_type": "code",
   "execution_count": 91,
   "id": "4a6d6c2c",
   "metadata": {},
   "outputs": [
    {
     "data": {
      "text/plain": [
       "219"
      ]
     },
     "execution_count": 91,
     "metadata": {},
     "output_type": "execute_result"
    }
   ],
   "source": [
    "len(batman_clean)"
   ]
  },
  {
   "cell_type": "code",
   "execution_count": 92,
   "id": "976c1e0c",
   "metadata": {},
   "outputs": [
    {
     "data": {
      "text/plain": [
       "F_onewayResult(statistic=43.62587891516757, pvalue=1.6410731510652519e-18)"
      ]
     },
     "execution_count": 92,
     "metadata": {},
     "output_type": "execute_result"
    }
   ],
   "source": [
    "#ANOVA\n",
    "stats.f_oneway(batman_clean[\"Batman & Robin (1997)\"], batman_clean[\"Batman (1989)\"], batman_clean[\"Batman: The Dark Knight (2008)\"])"
   ]
  },
  {
   "cell_type": "markdown",
   "id": "3d1e137c",
   "metadata": {},
   "source": [
    "p-val is less than 0.005, so we CAN conclude that there is a significant difference in the mean ratings of the movies in the Batman franchise --> INCONSISTENCY"
   ]
  },
  {
   "cell_type": "markdown",
   "id": "aa2b22a8",
   "metadata": {},
   "source": [
    "# Extra credit"
   ]
  },
  {
   "cell_type": "markdown",
   "id": "8d3faaea",
   "metadata": {},
   "source": [
    "Idea 1: do ppl who like driving fast like the fast and furious movie more than the ppl who don't like driving fast?"
   ]
  },
  {
   "cell_type": "code",
   "execution_count": 3,
   "id": "c400e4e8",
   "metadata": {},
   "outputs": [],
   "source": [
    "#get data\n",
    "fast_movie = pd.to_numeric(data_df['The Fast and the Furious (2001)'],errors='coerce').values\n",
    "fast_driver = pd.to_numeric(data_df['I enjoy driving fast'],errors='coerce').values"
   ]
  },
  {
   "cell_type": "code",
   "execution_count": 4,
   "id": "6dd2d50e",
   "metadata": {},
   "outputs": [],
   "source": [
    "#row-wise removal of Nan values\n",
    "list_tuples_fast = list(zip(fast_movie, fast_driver))\n",
    "\n",
    "fast_df = pd.DataFrame(list_tuples_fast)\n",
    "\n",
    "fast = fast_df.dropna()"
   ]
  },
  {
   "cell_type": "code",
   "execution_count": 5,
   "id": "db626fc0",
   "metadata": {},
   "outputs": [],
   "source": [
    "#split at 3, assuming 3 is neutral --> 1-2 is low/disagree, 4-5 is high/agree\n",
    "fast_low = fast[fast[1]<3]\n",
    "fast_high = fast[fast[1]>3]"
   ]
  },
  {
   "cell_type": "code",
   "execution_count": 28,
   "id": "4ee50c73",
   "metadata": {},
   "outputs": [
    {
     "data": {
      "text/plain": [
       "339"
      ]
     },
     "execution_count": 28,
     "metadata": {},
     "output_type": "execute_result"
    }
   ],
   "source": [
    "len(fast_high)"
   ]
  },
  {
   "cell_type": "code",
   "execution_count": 6,
   "id": "3019c8a6",
   "metadata": {},
   "outputs": [
    {
     "data": {
      "text/plain": [
       "KstestResult(statistic=0.06736302529135839, pvalue=0.7789121449805628, statistic_location=2.5, statistic_sign=1)"
      ]
     },
     "execution_count": 6,
     "metadata": {},
     "output_type": "execute_result"
    }
   ],
   "source": [
    "#KS test\n",
    "stats.kstest(fast_low[0], fast_high[0])"
   ]
  },
  {
   "cell_type": "code",
   "execution_count": 7,
   "id": "ca16c01d",
   "metadata": {},
   "outputs": [
    {
     "data": {
      "text/plain": [
       "MannwhitneyuResult(statistic=18901.0, pvalue=0.15426934747495427)"
      ]
     },
     "execution_count": 7,
     "metadata": {},
     "output_type": "execute_result"
    }
   ],
   "source": [
    "#Mann Whitney test\n",
    "stats.mannwhitneyu(fast_low[0], fast_high[0])"
   ]
  },
  {
   "cell_type": "code",
   "execution_count": 29,
   "id": "ee3b453e",
   "metadata": {},
   "outputs": [
    {
     "data": {
      "text/plain": [
       "Ttest_indResult(statistic=-1.5141650621730134, pvalue=0.1306722496790127)"
      ]
     },
     "execution_count": 29,
     "metadata": {},
     "output_type": "execute_result"
    }
   ],
   "source": [
    "#independent samples t-test\n",
    "stats.ttest_ind(fast_low[0], fast_high[0])"
   ]
  },
  {
   "cell_type": "code",
   "execution_count": 33,
   "id": "256606a3",
   "metadata": {},
   "outputs": [
    {
     "data": {
      "text/plain": [
       "2.4754098360655736"
      ]
     },
     "execution_count": 33,
     "metadata": {},
     "output_type": "execute_result"
    }
   ],
   "source": [
    "fast_low[0].mean()"
   ]
  },
  {
   "cell_type": "code",
   "execution_count": 9,
   "id": "6b8a6ad0",
   "metadata": {},
   "outputs": [
    {
     "data": {
      "text/plain": [
       "<matplotlib.legend.Legend at 0x1350f9cd0>"
      ]
     },
     "execution_count": 9,
     "metadata": {},
     "output_type": "execute_result"
    },
    {
     "data": {
      "image/png": "[encoded data removed]",
      "text/plain": [
       "<Figure size 640x480 with 1 Axes>"
      ]
     },
     "metadata": {},
     "output_type": "display_data"
    }
   ],
   "source": [
    "plt.hist(fast_low[0], color='lightblue', ec='black', bins=15, label='Not enjoy fast driving', alpha=0.8, density=True)\n",
    "plt.hist(fast_high[0], color='orange', ec='black', bins=15, label='Enjoy fast driving', alpha=0.5, density=True)\n",
    "plt.axvline(x=fast_low[0].median(), color='royalblue', label='Not enjoy fast driving - median')\n",
    "plt.axvline(x=fast_high[0].median(), color='chocolate', label='Enjoy fast driving - median')\n",
    "plt.title('Distribution Comparison')\n",
    "plt.xlabel('Ratings')\n",
    "plt.ylabel('Normalized Rating Frequencies')\n",
    "plt.legend()"
   ]
  },
  {
   "cell_type": "markdown",
   "id": "f87e88d4",
   "metadata": {},
   "source": [
    "Idea 2: do ppl who have a more active imagination rate movies differently than ppl who don't have a more active imagination? OR what proportion of movies are rated differently by viewers with more active imagination than ppl who don't have an active imagination"
   ]
  },
  {
   "cell_type": "code",
   "execution_count": 117,
   "id": "15505e2f",
   "metadata": {},
   "outputs": [],
   "source": [
    "total_movies = 400 #from spec sheet"
   ]
  },
  {
   "cell_type": "code",
   "execution_count": 124,
   "id": "94228a92",
   "metadata": {},
   "outputs": [],
   "source": [
    "significant_count = 0\n",
    "\n",
    "for i in range(total_movies):\n",
    "    movie = pd.to_numeric(data_df.iloc[:,i],errors='coerce').values\n",
    "    viewer = pd.to_numeric(data_df['Has an active imagination'],errors='coerce').values\n",
    "    \n",
    "    list_tuples_all = list(zip(movie, viewer))\n",
    "    movie_viewer_df = pd.DataFrame(list_tuples_all)\n",
    "    movie_viewer = movie_viewer_df.dropna()\n",
    "    \n",
    "    imagination_low = movie_viewer[movie_viewer[1]<3]\n",
    "    imagination_high = movie_viewer[movie_viewer[1]>3]\n",
    "    \n",
    "    t_stat, p_val = stats.ttest_ind(imagination_low[0], imagination_high[0])\n",
    "    \n",
    "    if p_val < 0.005:\n",
    "        significant_count += 1\n",
    "    else:\n",
    "        continue"
   ]
  },
  {
   "cell_type": "code",
   "execution_count": 126,
   "id": "b433558e",
   "metadata": {},
   "outputs": [
    {
     "name": "stdout",
     "output_type": "stream",
     "text": [
      "0.02\n",
      "8\n"
     ]
    }
   ],
   "source": [
    "print(significant_count/total_movies)\n",
    "print(significant_count)"
   ]
  },
  {
   "cell_type": "code",
   "execution_count": null,
   "id": "4b5bbc94",
   "metadata": {},
   "outputs": [],
   "source": [
    "#split at 3, assuming 3 is neutral"
   ]
  }
 ],
 "metadata": {
  "kernelspec": {
   "display_name": "Python 3 (ipykernel)",
   "language": "python",
   "name": "python3"
  },
  "language_info": {
   "codemirror_mode": {
    "name": "ipython",
    "version": 3
   },
   "file_extension": ".py",
   "mimetype": "text/x-python",
   "name": "python",
   "nbconvert_exporter": "python",
   "pygments_lexer": "ipython3",
   "version": "3.11.4"
  }
 },
 "nbformat": 4,
 "nbformat_minor": 5
}
